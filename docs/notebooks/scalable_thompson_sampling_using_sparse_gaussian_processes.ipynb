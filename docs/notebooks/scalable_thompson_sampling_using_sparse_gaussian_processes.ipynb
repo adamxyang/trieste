{
 "cells": [
  {
   "cell_type": "markdown",
   "id": "631aa339",
   "metadata": {},
   "source": [
    "# Scalable Thompson Sampling using Sparse Gaussian Process Models"
   ]
  },
  {
   "cell_type": "markdown",
   "id": "a801acc9",
   "metadata": {},
   "source": [
    "In our other [Thompson sampling notebook](thompson_sampling.pct.py) we demonstrate how to perform batch optimization using a traditional implementation of Thompson sampling that samples exactly from an underlying Gaussian Process surrogate model. Unfortunately, this approach incurs a large computational overhead that scales polynomially with the optimization budget and so cannot be applied to settings with larger optimization budgets, e.g. those where large batches (>>10) of points can be collected.\n",
    "\n",
    "Luckily, Trieste also supports a scalable formulation of Thompson sampling. In particular, by coupling a sparse Gaussian process surrogate model with an approximate sampling scheme we can apply Thompson sampling over very large  optimization budgets and batch sizes, i.e. for those settings where standard BO methods are infeasbible. The implementation in this notebook follows our paper (see <cite data-cite=\"vakili2021scalable\"/>)\n",
    "\n",
    "\n",
    "(https://arxiv.org/pdf/2006.05356.pdf)."
   ]
  },
  {
   "cell_type": "code",
   "execution_count": 1,
   "id": "e1e79d38",
   "metadata": {
    "execution": {
     "iopub.execute_input": "2022-06-21T14:02:08.986010Z",
     "iopub.status.busy": "2022-06-21T14:02:08.985773Z",
     "iopub.status.idle": "2022-06-21T14:02:10.633381Z",
     "shell.execute_reply": "2022-06-21T14:02:10.632796Z"
    }
   },
   "outputs": [],
   "source": [
    "import numpy as np\n",
    "import tensorflow as tf\n",
    "\n",
    "np.random.seed(1793)\n",
    "tf.random.set_seed(1793)"
   ]
  },
  {
   "cell_type": "markdown",
   "id": "01a2726e",
   "metadata": {},
   "source": [
    "## Define the problem and model\n",
    "\n",
    "We'll use a continuous bounded search space, and build a noisy observer. We then collect an initial design of 15 random points. In order to build a toy problem that requires a large optimization budget, we have contaminated our observations with a large amount of Gaussian noise."
   ]
  },
  {
   "cell_type": "code",
   "execution_count": 2,
   "id": "bd8f4b0d",
   "metadata": {
    "execution": {
     "iopub.execute_input": "2022-06-21T14:02:10.637312Z",
     "iopub.status.busy": "2022-06-21T14:02:10.636841Z",
     "iopub.status.idle": "2022-06-21T14:02:11.270352Z",
     "shell.execute_reply": "2022-06-21T14:02:11.269625Z"
    }
   },
   "outputs": [],
   "source": [
    "import trieste\n",
    "from trieste.objectives import (\n",
    "    hartmann_6,\n",
    "    HARTMANN_6_MINIMUM,\n",
    "    HARTMANN_6_SEARCH_SPACE,\n",
    ")\n",
    "from trieste.types import TensorType\n",
    "\n",
    "search_space = HARTMANN_6_SEARCH_SPACE\n",
    "\n",
    "\n",
    "def noisy_hartmann_6(\n",
    "    x: TensorType,\n",
    ") -> TensorType:  # contaminate observations with Gaussian noise\n",
    "    return hartmann_6(x) + tf.random.normal([len(x), 1], 0, 1, tf.float64)\n",
    "\n",
    "\n",
    "num_initial_data_points = 15\n",
    "initial_query_points = search_space.sample(num_initial_data_points)\n",
    "observer = trieste.objectives.utils.mk_observer(noisy_hartmann_6)\n",
    "initial_data = observer(initial_query_points)"
   ]
  },
  {
   "cell_type": "markdown",
   "id": "7f6cd638",
   "metadata": {},
   "source": [
    "We'll use a sparse Gaussian process regression to model the function, as implemented in GPflow. The GPflow models cannot be used directly in our Bayesian optimization routines, so we build a GPflow's `SVGP` model using Trieste's convenient model build function `build_svgp` and pass it to the `SparseVariational` wrapper. Note that we also define a `KMeansInducingPointSelector` selector, i.e. we reallocate the 50 inducing points of our `SVGP` model at the start of each BO step to be the centroids of a k-means clustering of the observations. As the optimization progresses, observations are likely to be concentrated in the optimal regions, so clustering provides “targeted” inducing points for BO."
   ]
  },
  {
   "cell_type": "code",
   "execution_count": 3,
   "id": "f469fd0d",
   "metadata": {
    "execution": {
     "iopub.execute_input": "2022-06-21T14:02:11.273761Z",
     "iopub.status.busy": "2022-06-21T14:02:11.273351Z",
     "iopub.status.idle": "2022-06-21T14:02:11.330653Z",
     "shell.execute_reply": "2022-06-21T14:02:11.330100Z"
    },
    "lines_to_next_cell": 2
   },
   "outputs": [],
   "source": [
    "from trieste.models.gpflow import (\n",
    "    SparseVariational,\n",
    "    build_svgp,\n",
    "    KMeansInducingPointSelector,\n",
    ")\n",
    "from trieste.models.optimizer import BatchOptimizer\n",
    "\n",
    "gpflow_model = build_svgp(\n",
    "    initial_data, search_space, likelihood_variance=0.01, num_inducing_points=50\n",
    ")\n",
    "\n",
    "inducing_point_selector = KMeansInducingPointSelector(search_space)\n",
    "\n",
    "model = SparseVariational(\n",
    "    gpflow_model,\n",
    "    num_rff_features=1_000,\n",
    "    inducing_point_selector=inducing_point_selector,\n",
    "    optimizer=BatchOptimizer(\n",
    "        tf.optimizers.Adam(0.1), max_iter=100, batch_size=50, compile=True\n",
    "    ),\n",
    ")"
   ]
  },
  {
   "cell_type": "markdown",
   "id": "511cd8b3",
   "metadata": {},
   "source": [
    "## Create the Thompson sampling acquisition rule\n",
    "\n",
    "Thompson sampling chooses query points as the minimizers of random samples from the model of our objective\n",
    "function.\n",
    "\n",
    "Using a [decoupled sampling scheme](https://arxiv.org/abs/2002.09309), we can build approximate samples from our sparse GP surrogate model at low cost. As we can cheaply evaluate the values and gradients of these approximate samples at any point across the search space, our acquisition function optimizers can be used to find the minimizers of the samples across the whole search space. We can increase the quality of these approximate samples at the expense of computational cost by increasing `num_rff_features` (as specified when defining our model above).\n",
    "\n",
    "We either build batches element by element with `GreedyContinuousThompsonSampling` or allocate a whole batch at once with `ParallelContinuousThompsonSampling`. The latter is faster but has a much higher memory usage. Memory usage can be controlled using `split_acquisition_function_calls` utility, which limits the number of individual evaluations that can be made in parallel (in our case we set this to 100_000)."
   ]
  },
  {
   "cell_type": "code",
   "execution_count": 4,
   "id": "5d72ccfc",
   "metadata": {
    "execution": {
     "iopub.execute_input": "2022-06-21T14:02:11.334404Z",
     "iopub.status.busy": "2022-06-21T14:02:11.333838Z",
     "iopub.status.idle": "2022-06-21T14:02:11.338880Z",
     "shell.execute_reply": "2022-06-21T14:02:11.338368Z"
    }
   },
   "outputs": [],
   "source": [
    "from trieste.acquisition.rule import EfficientGlobalOptimization\n",
    "from trieste.acquisition import ParallelContinuousThompsonSampling\n",
    "from trieste.acquisition.optimizer import automatic_optimizer_selector\n",
    "from trieste.acquisition.utils import split_acquisition_function_calls\n",
    "\n",
    "num_query_points = 100\n",
    "\n",
    "acq_rule = EfficientGlobalOptimization(\n",
    "    builder=ParallelContinuousThompsonSampling(),\n",
    "    num_query_points=num_query_points,\n",
    "    optimizer=split_acquisition_function_calls(\n",
    "        automatic_optimizer_selector, split_size=100_000\n",
    "    ),\n",
    ")"
   ]
  },
  {
   "cell_type": "markdown",
   "id": "69b10506",
   "metadata": {},
   "source": [
    "## Run the optimization loop\n",
    "\n",
    "Once the optimization loop is complete, the optimizer will return `num_query_points` new query points for every step in the loop. With only five steps, that's already five hundred points!"
   ]
  },
  {
   "cell_type": "code",
   "execution_count": 5,
   "id": "1ba278e7",
   "metadata": {
    "execution": {
     "iopub.execute_input": "2022-06-21T14:02:11.341577Z",
     "iopub.status.busy": "2022-06-21T14:02:11.341291Z",
     "iopub.status.idle": "2022-06-21T14:04:46.244287Z",
     "shell.execute_reply": "2022-06-21T14:04:46.243706Z"
    }
   },
   "outputs": [
    {
     "name": "stdout",
     "output_type": "stream",
     "text": [
      "Optimization completed without errors\n"
     ]
    }
   ],
   "source": [
    "bo = trieste.bayesian_optimizer.BayesianOptimizer(observer, search_space)\n",
    "\n",
    "num_steps = 5\n",
    "result = bo.optimize(\n",
    "    num_steps, initial_data, model, acq_rule, track_state=False\n",
    ")\n",
    "dataset = result.try_get_final_dataset()"
   ]
  },
  {
   "cell_type": "markdown",
   "id": "659a7466",
   "metadata": {},
   "source": [
    "## Visualising the result\n",
    "\n",
    "By plotting the regret achieved by the algorithm, we see the convergence over five BO steps after the initial design (denoted by a vertical line and cross). At least one element from each batch of evaluations (dots) achieves better objective values than its predecessor. The evolution of the best solution is highlighted with an orange line."
   ]
  },
  {
   "cell_type": "code",
   "execution_count": 6,
   "id": "55176851",
   "metadata": {
    "execution": {
     "iopub.execute_input": "2022-06-21T14:04:46.247339Z",
     "iopub.status.busy": "2022-06-21T14:04:46.246821Z",
     "iopub.status.idle": "2022-06-21T14:04:51.561488Z",
     "shell.execute_reply": "2022-06-21T14:04:51.560892Z"
    }
   },
   "outputs": [
    {
     "data": {
      "text/plain": [
       "Text(0.5, 0, '# evaluations')"
      ]
     },
     "execution_count": 6,
     "metadata": {},
     "output_type": "execute_result"
    },
    {
     "data": {
      "image/png": "[encoded data removed]",
      "text/plain": [
       "<Figure size 432x288 with 1 Axes>"
      ]
     },
     "metadata": {
      "needs_background": "light"
     },
     "output_type": "display_data"
    }
   ],
   "source": [
    "from util.plotting import plot_regret\n",
    "from matplotlib import pyplot as plt\n",
    "\n",
    "ground_truth_regret = hartmann_6(dataset.query_points) - HARTMANN_6_MINIMUM\n",
    "best_found_truth_idx = tf.squeeze(tf.argmin(ground_truth_regret, axis=0))\n",
    "\n",
    "fig, ax = plt.subplots()\n",
    "plot_regret(\n",
    "    ground_truth_regret.numpy(), ax, num_init=10, idx_best=best_found_truth_idx\n",
    ")\n",
    "\n",
    "ax.set_yscale(\"log\")\n",
    "ax.set_ylabel(\"Regret\")\n",
    "ax.set_xlabel(\"# evaluations\")"
   ]
  },
  {
   "cell_type": "markdown",
   "id": "8c92af30",
   "metadata": {},
   "source": [
    "## LICENSE\n",
    "\n",
    "[Apache License 2.0](https://github.com/secondmind-labs/trieste/blob/develop/LICENSE)"
   ]
  }
 ],
 "metadata": {
  "jupytext": {
   "cell_metadata_filter": "-all",
   "encoding": "# -*- coding: utf-8 -*-",
   "main_language": "python",
   "notebook_metadata_filter": "-all",
   "text_representation": {
    "extension": ".py",
    "format_name": "percent"
   }
  },
  "language_info": {
   "codemirror_mode": {
    "name": "ipython",
    "version": 3
   },
   "file_extension": ".py",
   "mimetype": "text/x-python",
   "name": "python",
   "nbconvert_exporter": "python",
   "pygments_lexer": "ipython3",
   "version": "3.7.13"
  }
 },
 "nbformat": 4,
 "nbformat_minor": 5
}

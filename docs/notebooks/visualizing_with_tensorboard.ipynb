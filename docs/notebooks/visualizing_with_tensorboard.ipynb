{
 "cells": [
  {
   "cell_type": "markdown",
   "id": "6c24c935",
   "metadata": {},
   "source": [
    "# Tracking and visualizing optimizations using Tensorboard"
   ]
  },
  {
   "cell_type": "code",
   "execution_count": 1,
   "id": "e0e182f8",
   "metadata": {
    "execution": {
     "iopub.execute_input": "2022-06-21T14:05:14.517056Z",
     "iopub.status.busy": "2022-06-21T14:05:14.516793Z",
     "iopub.status.idle": "2022-06-21T14:05:16.202609Z",
     "shell.execute_reply": "2022-06-21T14:05:16.202045Z"
    }
   },
   "outputs": [],
   "source": [
    "import numpy as np\n",
    "import tensorflow as tf\n",
    "\n",
    "np.random.seed(1793)\n",
    "tf.random.set_seed(1793)"
   ]
  },
  {
   "cell_type": "markdown",
   "id": "e604e832",
   "metadata": {},
   "source": [
    "We often wish to track or visualize the Bayesian optimization process, either during and following execution. This tutorial shows how to do this using the [TensorBoard](https://www.tensorflow.org/tensorboard) visualization toolkit. By default we keep track of evolution of the found minimizer and report timings for key parts of each optimization step."
   ]
  },
  {
   "cell_type": "markdown",
   "id": "2caac3ca",
   "metadata": {},
   "source": [
    "## Set up the problem\n",
    "\n",
    "For this tutorial, we'll use the same set up as before."
   ]
  },
  {
   "cell_type": "code",
   "execution_count": 2,
   "id": "f9359231",
   "metadata": {
    "execution": {
     "iopub.execute_input": "2022-06-21T14:05:16.206361Z",
     "iopub.status.busy": "2022-06-21T14:05:16.206061Z",
     "iopub.status.idle": "2022-06-21T14:05:16.895015Z",
     "shell.execute_reply": "2022-06-21T14:05:16.894444Z"
    }
   },
   "outputs": [],
   "source": [
    "import trieste\n",
    "\n",
    "search_space = trieste.space.Box([0, 0], [1, 1])\n",
    "observer = trieste.objectives.utils.mk_observer(\n",
    "    trieste.objectives.scaled_branin\n",
    ")\n",
    "initial_query_points = search_space.sample_sobol(5)\n",
    "initial_data = observer(initial_query_points)\n",
    "\n",
    "gpr = trieste.models.gpflow.build_gpr(initial_data, search_space)\n",
    "model = trieste.models.gpflow.GaussianProcessRegression(gpr)"
   ]
  },
  {
   "cell_type": "markdown",
   "id": "b1ed69fd",
   "metadata": {},
   "source": [
    "## Setting up TensorBoard\n",
    "\n",
    "Before running the optimization loop, we decide where TensorBoard summary logs should be stored, and set a summary writer to do this."
   ]
  },
  {
   "cell_type": "code",
   "execution_count": 3,
   "id": "8b367e6d",
   "metadata": {
    "execution": {
     "iopub.execute_input": "2022-06-21T14:05:16.898358Z",
     "iopub.status.busy": "2022-06-21T14:05:16.898064Z",
     "iopub.status.idle": "2022-06-21T14:05:17.066321Z",
     "shell.execute_reply": "2022-06-21T14:05:17.065584Z"
    }
   },
   "outputs": [],
   "source": [
    "# Clear any logs from previous runs\n",
    "!rm -rf logs/tensorboard\n",
    "\n",
    "summary_writer = tf.summary.create_file_writer(\"logs/tensorboard/experiment1\")\n",
    "trieste.logging.set_tensorboard_writer(summary_writer)"
   ]
  },
  {
   "cell_type": "markdown",
   "id": "5d61f835",
   "metadata": {},
   "source": [
    "We can now also load the TensorBoard extension, though at this point there will not be any data to dispay. To run this notebook locally, remove the %%script line."
   ]
  },
  {
   "cell_type": "code",
   "execution_count": 4,
   "id": "b20a90c0",
   "metadata": {
    "execution": {
     "iopub.execute_input": "2022-06-21T14:05:17.070027Z",
     "iopub.status.busy": "2022-06-21T14:05:17.069502Z",
     "iopub.status.idle": "2022-06-21T14:05:17.089581Z",
     "shell.execute_reply": "2022-06-21T14:05:17.089002Z"
    }
   },
   "outputs": [
    {
     "name": "stdout",
     "output_type": "stream",
     "text": [
      "Loading TensorBoard...\n"
     ]
    }
   ],
   "source": [
    "%%script echo Loading TensorBoard...\n",
    "\n",
    "%load_ext tensorboard\n",
    "%tensorboard --logdir \"logs/tensorboard\""
   ]
  },
  {
   "cell_type": "markdown",
   "id": "fa61726d",
   "metadata": {},
   "source": [
    "![TensorBoard empty page](figures/tensorboard_empty.png)"
   ]
  },
  {
   "cell_type": "markdown",
   "id": "41d91b36",
   "metadata": {},
   "source": [
    "## Running and tracking the Bayesian Optimizer\n",
    "\n",
    "By setting the summary writer, we tell Trieste to log relevant information during optimization. While the optimization is running, we can refresh TensorBoard to see its progress."
   ]
  },
  {
   "cell_type": "code",
   "execution_count": 5,
   "id": "8f5af36a",
   "metadata": {
    "execution": {
     "iopub.execute_input": "2022-06-21T14:05:17.092999Z",
     "iopub.status.busy": "2022-06-21T14:05:17.092697Z",
     "iopub.status.idle": "2022-06-21T14:05:38.146498Z",
     "shell.execute_reply": "2022-06-21T14:05:38.145904Z"
    }
   },
   "outputs": [
    {
     "name": "stdout",
     "output_type": "stream",
     "text": [
      "Optimization completed without errors\n"
     ]
    }
   ],
   "source": [
    "num_steps = 15\n",
    "bo = trieste.bayesian_optimizer.BayesianOptimizer(observer, search_space)\n",
    "result, history = bo.optimize(num_steps, initial_data, model).astuple()"
   ]
  },
  {
   "cell_type": "markdown",
   "id": "927c76e4",
   "metadata": {},
   "source": [
    "The data remains available when the optimization is over.\n",
    "\n",
    "![TensorBoard graphs](figures/tensorboard_bo.png)\n",
    "\n",
    " In addition to these scalar plots, there may also be histograms, textual metadata and image plots."
   ]
  },
  {
   "cell_type": "markdown",
   "id": "e4d5ce55",
   "metadata": {},
   "source": [
    "## Deciding what to log\n",
    "\n",
    "When monitoring is enabled, Trieste decides what information is interesting enough to log. This includes objective and acquisition function values, query points, and some model parameters. Some data summaries, such as query point pairplots, are not generated by default as they can affect running time. You can control which summaries to generate and display by overriding the default summary filter. By default this shows any summary apart from those whose name starts with an underscore character."
   ]
  },
  {
   "cell_type": "code",
   "execution_count": 6,
   "id": "b6080548",
   "metadata": {
    "execution": {
     "iopub.execute_input": "2022-06-21T14:05:38.150260Z",
     "iopub.status.busy": "2022-06-21T14:05:38.149770Z",
     "iopub.status.idle": "2022-06-21T14:05:38.153069Z",
     "shell.execute_reply": "2022-06-21T14:05:38.152579Z"
    }
   },
   "outputs": [],
   "source": [
    "trieste.logging.set_summary_filter(lambda name: True)  # enabe all summaries"
   ]
  },
  {
   "cell_type": "markdown",
   "id": "b52e3761",
   "metadata": {},
   "source": [
    "Furthermore, some summaries such as pairplots also require special plotting tools, which can be installed by running `pip install trieste[plotting]`. A warning message will be printed if you try to generate a summary without the necessary tools.\n",
    "\n",
    "![TensorBoard pairplot](figures/tensorboard_pairplot.png)"
   ]
  },
  {
   "cell_type": "markdown",
   "id": "30b219bc",
   "metadata": {},
   "source": [
    "## Logging additional model parameters\n",
    "\n",
    "Where trieste's monitoring is insufficient, you can also add your own logs. To log additional model parameters, you can define your own model subclass and override the `log` method. You can use the various `tf.summary` method wrappers in `trieste.logging` to ensure that your logs are filtered correctly. For example, the following GPR subclass also logs the average lengthscale at each step."
   ]
  },
  {
   "cell_type": "code",
   "execution_count": 7,
   "id": "4dcba88d",
   "metadata": {
    "execution": {
     "iopub.execute_input": "2022-06-21T14:05:38.155891Z",
     "iopub.status.busy": "2022-06-21T14:05:38.155607Z",
     "iopub.status.idle": "2022-06-21T14:05:38.168088Z",
     "shell.execute_reply": "2022-06-21T14:05:38.167553Z"
    }
   },
   "outputs": [],
   "source": [
    "class GPRExtraLogging(trieste.models.gpflow.GaussianProcessRegression):\n",
    "    def log(self):\n",
    "        super().log()\n",
    "        summary_writer = trieste.logging.get_tensorboard_writer()\n",
    "        if summary_writer:\n",
    "            with summary_writer.as_default(\n",
    "                step=trieste.logging.get_step_number()\n",
    "            ):\n",
    "                trieste.logging.scalar(\n",
    "                    \"kernel.lengthscales.mean\",\n",
    "                    np.mean(self.get_kernel().lengthscales),\n",
    "                )\n",
    "\n",
    "\n",
    "model = GPRExtraLogging(gpr)"
   ]
  },
  {
   "cell_type": "markdown",
   "id": "0525f65b",
   "metadata": {},
   "source": [
    "Running with this model now also produces logs for the mean lengthscale. We mark this optimization run as a separate experiment by creating a new summary writer. Tensorboard will conveniently offer an automatic comparison of the experiments."
   ]
  },
  {
   "cell_type": "code",
   "execution_count": 8,
   "id": "63deda1f",
   "metadata": {
    "execution": {
     "iopub.execute_input": "2022-06-21T14:05:38.171266Z",
     "iopub.status.busy": "2022-06-21T14:05:38.170756Z",
     "iopub.status.idle": "2022-06-21T14:05:56.540648Z",
     "shell.execute_reply": "2022-06-21T14:05:56.539917Z"
    },
    "lines_to_next_cell": 1
   },
   "outputs": [
    {
     "name": "stdout",
     "output_type": "stream",
     "text": [
      "\n",
      "Pairplot TensorBoard summaries require seaborn to be installed.\n",
      "One way to do this is to install 'trieste[plotting]'.\n"
     ]
    },
    {
     "name": "stdout",
     "output_type": "stream",
     "text": [
      "Optimization completed without errors\n"
     ]
    }
   ],
   "source": [
    "summary_writer = tf.summary.create_file_writer(\"logs/tensorboard/experiment2\")\n",
    "trieste.logging.set_tensorboard_writer(summary_writer)\n",
    "\n",
    "bo = trieste.bayesian_optimizer.BayesianOptimizer(observer, search_space)\n",
    "result, history = bo.optimize(num_steps, initial_data, model).astuple()"
   ]
  },
  {
   "cell_type": "markdown",
   "id": "f7e83a9d",
   "metadata": {},
   "source": [
    "![TensorBoard custom graphs](figures/tensorboard_custom.png)"
   ]
  },
  {
   "cell_type": "markdown",
   "id": "d291d59e",
   "metadata": {},
   "source": [
    "## Logging additional acquisition rule metrics\n",
    "\n",
    "\n",
    "Similarly, it is possible to log additional metrics connected to the acquisition rule by overriding rule's `acquire` method (or any other method used while evaluating the rule). For example, the following class also logs the mean coordinates of the selected points:"
   ]
  },
  {
   "cell_type": "code",
   "execution_count": 9,
   "id": "477553c1",
   "metadata": {
    "execution": {
     "iopub.execute_input": "2022-06-21T14:05:56.544393Z",
     "iopub.status.busy": "2022-06-21T14:05:56.543879Z",
     "iopub.status.idle": "2022-06-21T14:06:15.171785Z",
     "shell.execute_reply": "2022-06-21T14:06:15.171227Z"
    }
   },
   "outputs": [
    {
     "name": "stdout",
     "output_type": "stream",
     "text": [
      "\n",
      "Pairplot TensorBoard summaries require seaborn to be installed.\n",
      "One way to do this is to install 'trieste[plotting]'.\n"
     ]
    },
    {
     "name": "stdout",
     "output_type": "stream",
     "text": [
      "Optimization completed without errors\n"
     ]
    }
   ],
   "source": [
    "class EGOExtraLogging(trieste.acquisition.rule.EfficientGlobalOptimization):\n",
    "    def acquire(self, search_space, models, datasets=None):\n",
    "        points = super().acquire(search_space, models, datasets)\n",
    "        summary_writer = trieste.logging.get_tensorboard_writer()\n",
    "        if summary_writer:\n",
    "            with summary_writer.as_default(\n",
    "                step=trieste.logging.get_step_number()\n",
    "            ):\n",
    "                trieste.logging.scalar(\n",
    "                    \"EGO.points_selected.mean\", tf.math.reduce_mean(points)\n",
    "                )\n",
    "        return points\n",
    "\n",
    "\n",
    "summary_writer = tf.summary.create_file_writer(\"logs/tensorboard/experiment3\")\n",
    "trieste.logging.set_tensorboard_writer(summary_writer)\n",
    "\n",
    "bo = trieste.bayesian_optimizer.BayesianOptimizer(observer, search_space)\n",
    "result, history = bo.optimize(  # type: ignore\n",
    "    num_steps, initial_data, model, acquisition_rule=EGOExtraLogging()\n",
    ").astuple()"
   ]
  },
  {
   "cell_type": "markdown",
   "id": "0b77a49b",
   "metadata": {},
   "source": [
    "![TensorBoard custom rule graphs](figures/tensorboard_custom_rule.png)"
   ]
  },
  {
   "cell_type": "markdown",
   "id": "7e2e2a6a",
   "metadata": {},
   "source": [
    "## Using Tensorboard with Ask-Tell Optimization\n",
    "\n",
    "To use Tensorboard logging with the [Ask-Tell interface](ask_tell_optimization.ipynb), you must also explicitly set the optimization step number before calling ask or tell:"
   ]
  },
  {
   "cell_type": "code",
   "execution_count": 10,
   "id": "8ffe7f32",
   "metadata": {
    "execution": {
     "iopub.execute_input": "2022-06-21T14:06:15.175166Z",
     "iopub.status.busy": "2022-06-21T14:06:15.174975Z",
     "iopub.status.idle": "2022-06-21T14:06:33.894136Z",
     "shell.execute_reply": "2022-06-21T14:06:33.893537Z"
    }
   },
   "outputs": [],
   "source": [
    "summary_writer = tf.summary.create_file_writer(\"logs/tensorboard/experiment4\")\n",
    "trieste.logging.set_tensorboard_writer(summary_writer)\n",
    "\n",
    "ask_tell = trieste.ask_tell_optimization.AskTellOptimizer(\n",
    "    search_space, initial_data, model\n",
    ")\n",
    "\n",
    "for step in range(num_steps):\n",
    "    trieste.logging.set_step_number(step)\n",
    "    new_point = ask_tell.ask()\n",
    "    new_data = observer(new_point)\n",
    "    ask_tell.tell(new_data)"
   ]
  },
  {
   "cell_type": "markdown",
   "id": "6e055020",
   "metadata": {},
   "source": [
    "## LICENSE\n",
    "\n",
    "[Apache License 2.0](https://github.com/secondmind-labs/trieste/blob/develop/LICENSE)"
   ]
  }
 ],
 "metadata": {
  "jupytext": {
   "cell_metadata_filter": "-all",
   "main_language": "python",
   "notebook_metadata_filter": "-all",
   "text_representation": {
    "extension": ".py",
    "format_name": "percent"
   }
  },
  "language_info": {
   "codemirror_mode": {
    "name": "ipython",
    "version": 3
   },
   "file_extension": ".py",
   "mimetype": "text/x-python",
   "name": "python",
   "nbconvert_exporter": "python",
   "pygments_lexer": "ipython3",
   "version": "3.7.13"
  }
 },
 "nbformat": 4,
 "nbformat_minor": 5
}

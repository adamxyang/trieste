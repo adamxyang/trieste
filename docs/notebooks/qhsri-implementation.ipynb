{
 "cells": [
  {
   "cell_type": "code",
   "execution_count": null,
   "metadata": {},
   "outputs": [],
   "source": [
    "import numpy as np\n",
    "import pymoo\n",
    "from pymoo.algorithms.moo.nsga2 import NSGA2\n",
    "from pymoo.optimize import minimize\n",
    "from cvxopt import matrix\n",
    "from cvxopt.solvers import qp\n",
    "import matplotlib.pyplot as plt\n",
    "from trieste.experimental.qhsri.qhsri import BatchHypervolumeSharpeRatioIndicator"
   ]
  },
  {
   "cell_type": "markdown",
   "metadata": {},
   "source": [
    "# Trying it out"
   ]
  },
  {
   "cell_type": "code",
   "execution_count": null,
   "metadata": {},
   "outputs": [],
   "source": [
    "from trieste.objectives import scaled_branin\n",
    "from trieste.objectives.utils import mk_observer\n",
    "from trieste.space import Box\n",
    "\n",
    "# Create the observer\n",
    "observer = mk_observer(scaled_branin)\n",
    "\n",
    "# Define Search space\n",
    "search_space = Box([0,0], [1,1])\n",
    "\n",
    "# Set initial number of query points\n",
    "num_initial_points = 5\n",
    "initial_query_points = search_space.sample(num_initial_points)\n",
    "initial_data = observer(initial_query_points)"
   ]
  },
  {
   "cell_type": "code",
   "execution_count": null,
   "metadata": {},
   "outputs": [],
   "source": [
    "from trieste.models.gpflow import GaussianProcessRegression, build_gpr\n",
    "\n",
    "# Set up model\n",
    "gpflow_model = build_gpr(initial_data, search_space, likelihood_variance=1e-7)\n",
    "model = GaussianProcessRegression(gpflow_model)"
   ]
  },
  {
   "cell_type": "code",
   "execution_count": null,
   "metadata": {},
   "outputs": [],
   "source": [
    "# Set up rule\n",
    "\n",
    "# Get current best y\n",
    "current_best = float(min(initial_data.observations))\n",
    "\n",
    "qhsri = BatchHypervolumeSharpeRatioIndicator(model, current_best)\n",
    "\n",
    "points_chosen_by_qhsri = qhsri(model, 5)\n"
   ]
  },
  {
   "cell_type": "code",
   "execution_count": null,
   "metadata": {},
   "outputs": [],
   "source": [
    "from trieste.acquisition.function import BatchMonteCarloExpectedImprovement\n",
    "from trieste.acquisition.rule import EfficientGlobalOptimization\n",
    "\n",
    "\n",
    "# Batch MCEI requires a number of monte carlo samples to do\n",
    "monte_carlo_sample_size = 1000\n",
    "# Set up batch MCIE builder\n",
    "batch_ei_acq = BatchMonteCarloExpectedImprovement(\n",
    "    sample_size=monte_carlo_sample_size,\n",
    "    jitter = 1e-5\n",
    ")\n",
    "# Set up batch EGO acquisition rule\n",
    "batch_size = 5\n",
    "batch_ei_acq_rule = EfficientGlobalOptimization(\n",
    "    num_query_points=batch_size,\n",
    "     builder=batch_ei_acq)\n",
    "\n",
    "# Use acquisition rule to pick new points\n",
    "points_chosen_by_batch_ei = np.array(batch_ei_acq_rule.acquire_single(search_space, model, dataset=initial_data))"
   ]
  },
  {
   "cell_type": "code",
   "execution_count": null,
   "metadata": {},
   "outputs": [],
   "source": [
    "import matplotlib.pyplot as plt\n",
    "from trieste.experimental.plotting import plot_acq_function_2d\n",
    "\n",
    "from trieste.acquisition.function import ExpectedImprovement\n",
    "\n",
    "# plot standard EI acquisition function\n",
    "ei = ExpectedImprovement()\n",
    "ei_acq_function = ei.prepare_acquisition_function(model, dataset=initial_data)\n",
    "plot_acq_function_2d(\n",
    "    ei_acq_function, [0, 0], [1, 1], contour=True, grid_density=100\n",
    ")\n",
    "\n",
    "plt.scatter(\n",
    "    points_chosen_by_batch_ei[:, 0],\n",
    "    points_chosen_by_batch_ei[:, 1],\n",
    "    color=\"red\",\n",
    "    lw=5,\n",
    "    label=\"Batch-EI\",\n",
    "    marker=\"*\",\n",
    "    zorder=1,\n",
    ")\n",
    "plt.scatter(\n",
    "    points_chosen_by_qhsri[:, 0],\n",
    "    points_chosen_by_qhsri[:, 1],\n",
    "    color=\"black\",\n",
    "    lw=10,\n",
    "    label=\"Local \\nPenalization\",\n",
    "    marker=\"+\",\n",
    ")\n",
    "plt.show()\n"
   ]
  },
  {
   "cell_type": "code",
   "execution_count": null,
   "metadata": {},
   "outputs": [],
   "source": [
    "plt.scatter(\n",
    "    points_chosen_by_batch_ei[:, 0],\n",
    "    points_chosen_by_batch_ei[:, 1],\n",
    "    color=\"red\",\n",
    "    lw=5,\n",
    "    label=\"Batch-EI\",\n",
    "    marker=\"*\",\n",
    "    zorder=1,\n",
    ")\n",
    "plt.scatter(\n",
    "    points_chosen_by_qhsri[:, 0],\n",
    "    points_chosen_by_qhsri[:, 1],\n",
    "    color=\"black\",\n",
    "    lw=10,\n",
    "    label=\"Local \\nPenalization\",\n",
    "    marker=\"+\",\n",
    ")\n",
    "plt.show()\n"
   ]
  }
 ],
 "metadata": {
  "kernelspec": {
   "display_name": "Python 3.8.10 ('trieste')",
   "language": "python",
   "name": "python3"
  },
  "language_info": {
   "codemirror_mode": {
    "name": "ipython",
    "version": 3
   },
   "file_extension": ".py",
   "mimetype": "text/x-python",
   "name": "python",
   "nbconvert_exporter": "python",
   "pygments_lexer": "ipython3",
   "version": "3.8.10"
  },
  "orig_nbformat": 4,
  "vscode": {
   "interpreter": {
    "hash": "51b3ded31c209735e9e8b71135aa99c7dec78f3e0a756029edd0bcd87884c17b"
   }
  }
 },
 "nbformat": 4,
 "nbformat_minor": 2
}

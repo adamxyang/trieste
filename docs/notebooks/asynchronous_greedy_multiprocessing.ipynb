{
 "cells": [
  {
   "cell_type": "markdown",
   "id": "aca882b3",
   "metadata": {},
   "source": [
    "# Asynchronous Bayesian optimization with Trieste\n",
    "\n",
    "In this notebook we demonstrate Trieste's ability to perform asynchronous Bayesian optimisation, as is suitable for scenarios where the objective function can be run for several points in parallel but where observations might return back at different times. To avoid wasting resources waiting for the evaluation of the whole batch, we immediately request the next point asynchronously, taking into account points that are still being evaluated. Besides saving resources, asynchronous approach also can potentially [improve sample efficiency](https://arxiv.org/abs/1901.10452) in comparison with synchronous batch strategies, although this is highly dependent on the use case.\n",
    "\n",
    "To contrast this approach with regular [batch optimization](batch_optimization.ipynb), this notebook also shows how to run parallel synchronous batch approach."
   ]
  },
  {
   "cell_type": "code",
   "execution_count": 1,
   "id": "b9e88a6f",
   "metadata": {
    "execution": {
     "iopub.execute_input": "2022-06-21T13:14:11.745497Z",
     "iopub.status.busy": "2022-06-21T13:14:11.745123Z",
     "iopub.status.idle": "2022-06-21T13:14:13.358335Z",
     "shell.execute_reply": "2022-06-21T13:14:13.357774Z"
    },
    "lines_to_next_cell": 2
   },
   "outputs": [],
   "source": [
    "# silence TF warnings and info messages, only print errors\n",
    "# https://stackoverflow.com/questions/35911252/disable-tensorflow-debugging-information\n",
    "import os\n",
    "\n",
    "os.environ[\"TF_CPP_MIN_LOG_LEVEL\"] = \"3\"\n",
    "import tensorflow as tf\n",
    "\n",
    "tf.get_logger().setLevel(\"ERROR\")\n",
    "import numpy as np\n",
    "import time\n",
    "import timeit"
   ]
  },
  {
   "cell_type": "markdown",
   "id": "774e8f3d",
   "metadata": {
    "lines_to_next_cell": 0
   },
   "source": [
    "First, let's define a simple objective that will emulate evaluations taking variable time. We will be using a classic Bayesian optimisation benchmark function [Branin](https://www.sfu.ca/~ssurjano/branin.html) with a sleep call inserted in the middle of the calculation to emulate delay. Our sleep delay is a scaled sum of all input values to make sure delays are uneven."
   ]
  },
  {
   "cell_type": "code",
   "execution_count": 2,
   "id": "e5a89c24",
   "metadata": {
    "execution": {
     "iopub.execute_input": "2022-06-21T13:14:13.361476Z",
     "iopub.status.busy": "2022-06-21T13:14:13.361240Z",
     "iopub.status.idle": "2022-06-21T13:14:13.977399Z",
     "shell.execute_reply": "2022-06-21T13:14:13.976859Z"
    }
   },
   "outputs": [
    {
     "data": {
      "text/plain": [
       "array([[-0.42052567]])"
      ]
     },
     "execution_count": 2,
     "metadata": {},
     "output_type": "execute_result"
    }
   ],
   "source": [
    "from trieste.objectives import scaled_branin\n",
    "\n",
    "\n",
    "def objective(points, sleep=True):\n",
    "    if points.shape[1] != 2:\n",
    "        raise ValueError(\n",
    "            f\"Incorrect input shape, expected (*, 2), got {points.shape}\"\n",
    "        )\n",
    "\n",
    "    observations = []\n",
    "    for point in points:\n",
    "        observation = scaled_branin(point)\n",
    "        if sleep:\n",
    "            # insert some artificial delay\n",
    "            # increases linearly with the absolute value of points\n",
    "            # which means our evaluations will take different time\n",
    "            delay = 3 * np.sum(point)\n",
    "            pid = os.getpid()\n",
    "            print(\n",
    "                f\"Process {pid}: Objective: pretends like it's doing something for {delay:.2}s\",\n",
    "                flush=True,\n",
    "            )\n",
    "            time.sleep(delay)\n",
    "        observations.append(observation)\n",
    "\n",
    "    return np.array(observations)\n",
    "\n",
    "\n",
    "# test the defined objective function\n",
    "objective(np.array([[0.1, 0.5]]), sleep=False)"
   ]
  },
  {
   "cell_type": "markdown",
   "id": "b382bd89",
   "metadata": {},
   "source": [
    "As always, we need to prepare the model and some initial data to kick-start the optimization process."
   ]
  },
  {
   "cell_type": "code",
   "execution_count": 3,
   "id": "0c453d24",
   "metadata": {
    "execution": {
     "iopub.execute_input": "2022-06-21T13:14:13.980087Z",
     "iopub.status.busy": "2022-06-21T13:14:13.979787Z",
     "iopub.status.idle": "2022-06-21T13:14:14.027718Z",
     "shell.execute_reply": "2022-06-21T13:14:14.027181Z"
    },
    "lines_to_next_cell": 2
   },
   "outputs": [],
   "source": [
    "from trieste.space import Box\n",
    "from trieste.data import Dataset\n",
    "from trieste.objectives import SCALED_BRANIN_MINIMUM\n",
    "\n",
    "search_space = Box([0, 0], [1, 1])\n",
    "num_initial_points = 3\n",
    "initial_query_points = search_space.sample(num_initial_points)\n",
    "initial_observations = objective(initial_query_points.numpy(), sleep=False)\n",
    "initial_data = Dataset(\n",
    "    query_points=initial_query_points,\n",
    "    observations=tf.constant(initial_observations, dtype=tf.float64),\n",
    ")\n",
    "\n",
    "import gpflow\n",
    "from trieste.models.gpflow import GaussianProcessRegression, build_gpr\n",
    "\n",
    "# We set the likelihood variance to a small number because\n",
    "# we are dealing with a noise-free problem.\n",
    "gpflow_model = build_gpr(initial_data, search_space, likelihood_variance=1e-7)\n",
    "model = GaussianProcessRegression(gpflow_model)\n",
    "\n",
    "\n",
    "# these imports will be used later for optimization\n",
    "from trieste.acquisition import LocalPenalization\n",
    "from trieste.acquisition.rule import (\n",
    "    AsynchronousGreedy,\n",
    "    EfficientGlobalOptimization,\n",
    ")\n",
    "from trieste.ask_tell_optimization import AskTellOptimizer"
   ]
  },
  {
   "cell_type": "markdown",
   "id": "8d4c093c",
   "metadata": {},
   "source": [
    "## Multiprocessing setup\n",
    "\n",
    "To keep this notebook as reproducible as possible, we will only be using Python's multiprocessing package here. In this section we will explain our setup and define some common code to be used later.\n",
    "\n",
    "In both synchronous and asynchronous scenarios we will have a fixed set of worker processes performing observations. We will also have a main process responsible for optimization process with Trieste. When Trieste suggests a new point, it is inserted into a points queue. One of the workers picks this point from the queue, performs the observation, and inserts the output into the observations queue. The main process then picks up the observation from the queue, at which moment it either waits for the rest of the points in the batch to come back (synchronous scenario) or immediately suggests a new point (asynchronous scenario). This process continues either for a certain number of iterations or until we accumulate necessary number of observations.\n",
    "\n",
    "The overall setup is illustrated in this diagram:\n",
    "![multiprocessing setup](figures/async_bo.png)"
   ]
  },
  {
   "cell_type": "code",
   "execution_count": 4,
   "id": "ac2400d2",
   "metadata": {
    "execution": {
     "iopub.execute_input": "2022-06-21T13:14:14.030788Z",
     "iopub.status.busy": "2022-06-21T13:14:14.030520Z",
     "iopub.status.idle": "2022-06-21T13:14:14.034576Z",
     "shell.execute_reply": "2022-06-21T13:14:14.034097Z"
    }
   },
   "outputs": [],
   "source": [
    "# Necessary multiprocessing primitives\n",
    "from multiprocessing import Manager, Process"
   ]
  },
  {
   "cell_type": "markdown",
   "id": "c01fbf64",
   "metadata": {},
   "source": [
    "We now define several common functions to implement the described setup. First we define a worker function that will be running a single observation in a separate process. Worker takes both queues as an input, reads next point from the points queue, makes an observation, and inserts observed data into the observations queue."
   ]
  },
  {
   "cell_type": "code",
   "execution_count": 5,
   "id": "9b0b917b",
   "metadata": {
    "execution": {
     "iopub.execute_input": "2022-06-21T13:14:14.037743Z",
     "iopub.status.busy": "2022-06-21T13:14:14.037335Z",
     "iopub.status.idle": "2022-06-21T13:14:14.043054Z",
     "shell.execute_reply": "2022-06-21T13:14:14.042559Z"
    },
    "lines_to_next_cell": 2
   },
   "outputs": [],
   "source": [
    "\n",
    "\n",
    "def observer_proc(points_queue, observations_queue):\n",
    "    pid = os.getpid()\n",
    "\n",
    "    while True:\n",
    "        point_to_observe = points_queue.get()\n",
    "        if point_to_observe is None:\n",
    "            return\n",
    "\n",
    "        print(\n",
    "            f\"Process {pid}: Observer : observing data at point {point_to_observe}\",\n",
    "            flush=True,\n",
    "        )\n",
    "        new_observation = objective(point_to_observe, sleep=enable_sleep_delays)\n",
    "        new_data = (point_to_observe, new_observation)\n",
    "\n",
    "        print(f\"Process {pid}: Observer : observed data {new_data}\", flush=True)\n",
    "\n",
    "        observations_queue.put(new_data)"
   ]
  },
  {
   "cell_type": "markdown",
   "id": "602f7638",
   "metadata": {},
   "source": [
    "Next we define two helper functions, one is to create a certain number of worker processes, and another is to terminate them once we are done."
   ]
  },
  {
   "cell_type": "code",
   "execution_count": 6,
   "id": "0a1fcd75",
   "metadata": {
    "execution": {
     "iopub.execute_input": "2022-06-21T13:14:14.045699Z",
     "iopub.status.busy": "2022-06-21T13:14:14.045233Z",
     "iopub.status.idle": "2022-06-21T13:14:14.050719Z",
     "shell.execute_reply": "2022-06-21T13:14:14.050206Z"
    }
   },
   "outputs": [],
   "source": [
    "\n",
    "\n",
    "def create_worker_processes(n_workers, points_queue, obseverations_queue):\n",
    "    observer_processes = []\n",
    "    for i in range(n_workers):\n",
    "        worker_proc = Process(\n",
    "            target=observer_proc, args=(points_queue, obseverations_queue)\n",
    "        )\n",
    "        worker_proc.daemon = True\n",
    "        worker_proc.start()\n",
    "\n",
    "        observer_processes.append(worker_proc)\n",
    "\n",
    "    return observer_processes\n",
    "\n",
    "\n",
    "def terminate_processes(processes):\n",
    "    for prc in processes:\n",
    "        prc.terminate()\n",
    "        prc.join()\n",
    "        prc.close()"
   ]
  },
  {
   "cell_type": "markdown",
   "id": "893b557c",
   "metadata": {
    "lines_to_next_cell": 0
   },
   "source": [
    "Finally we set some common parameters. See comments below for explanation of what each one means."
   ]
  },
  {
   "cell_type": "code",
   "execution_count": 7,
   "id": "d44bf246",
   "metadata": {
    "execution": {
     "iopub.execute_input": "2022-06-21T13:14:14.053204Z",
     "iopub.status.busy": "2022-06-21T13:14:14.053037Z",
     "iopub.status.idle": "2022-06-21T13:14:14.055956Z",
     "shell.execute_reply": "2022-06-21T13:14:14.055539Z"
    }
   },
   "outputs": [],
   "source": [
    "# Number of worker processes to run simultaneously\n",
    "# Setting this to 1 will turn both setups into non-batch sequential optimization\n",
    "num_workers = 3\n",
    "# Number of iterations to run the sycnhronous scenario for\n",
    "num_iterations = 10\n",
    "# Number of observations to collect in the asynchronous scenario\n",
    "num_observations = num_workers * num_iterations\n",
    "# Set this flag to False to disable sleep delays in case you want the notebook to execute quickly\n",
    "enable_sleep_delays = True"
   ]
  },
  {
   "cell_type": "markdown",
   "id": "fcca6077",
   "metadata": {},
   "source": [
    "## Asynchronous optimization\n",
    "This section runs the asynchronous optimization routine. We first setup the [ask/tell optimizer](ask_tell_optimization.ipynb) as we cannot hand over the evaluation of the objective to Trieste. Next we create thread-safe queues for points and observations, and run the optimization loop.\n",
    "\n",
    "Crucially, even though we are using batch acquisition function Local Penalization, we specify batch size of 1. This is because we don't really want a batch. Since the amount of workers we have is fixed, whenever we see a new observation we only need one point back. However this process can only be done with acquisition functions that implement greedy batch collection strategies, because they are able to take into account points that are currently being observed (in Trieste we call them \"pending\"). Trieste currently provides two such functions: Local Penalization and GIBBON. Notice that we use **AsynchronousGreedy** rule specifically designed for using greedy batch acquisition functions in asynchronous scenarios."
   ]
  },
  {
   "cell_type": "code",
   "execution_count": 8,
   "id": "5d9b237d",
   "metadata": {
    "execution": {
     "iopub.execute_input": "2022-06-21T13:14:14.058791Z",
     "iopub.status.busy": "2022-06-21T13:14:14.058635Z",
     "iopub.status.idle": "2022-06-21T13:15:03.086836Z",
     "shell.execute_reply": "2022-06-21T13:15:03.086052Z"
    }
   },
   "outputs": [
    {
     "name": "stdout",
     "output_type": "stream",
     "text": [
      "Process 2785: Observer : observing data at point [[0.37719693 0.40610852]]"
     ]
    },
    {
     "name": "stdout",
     "output_type": "stream",
     "text": [
      "\n"
     ]
    },
    {
     "name": "stdout",
     "output_type": "stream",
     "text": [
      "Process 2785: Objective: pretends like it's doing something for 2.3s"
     ]
    },
    {
     "name": "stdout",
     "output_type": "stream",
     "text": [
      "\n"
     ]
    },
    {
     "name": "stdout",
     "output_type": "stream",
     "text": [
      "Process 2789: Observer : observing data at point [[0.31722386 0.31603048]]"
     ]
    },
    {
     "name": "stdout",
     "output_type": "stream",
     "text": [
      "\n"
     ]
    },
    {
     "name": "stdout",
     "output_type": "stream",
     "text": [
      "Process 2789: Objective: pretends like it's doing something for 1.9s"
     ]
    },
    {
     "name": "stdout",
     "output_type": "stream",
     "text": [
      "\n"
     ]
    },
    {
     "name": "stdout",
     "output_type": "stream",
     "text": [
      "Process 2793: Observer : observing data at point [[0.4180659  0.32608836]]"
     ]
    },
    {
     "name": "stdout",
     "output_type": "stream",
     "text": [
      "\n"
     ]
    },
    {
     "name": "stdout",
     "output_type": "stream",
     "text": [
      "Process 2793: Objective: pretends like it's doing something for 2.2s"
     ]
    },
    {
     "name": "stdout",
     "output_type": "stream",
     "text": [
      "\n"
     ]
    },
    {
     "name": "stdout",
     "output_type": "stream",
     "text": [
      "Process 2785: Observer : observed data (array([[0.37719693, 0.40610852]]), array([[-0.69373954]]))"
     ]
    },
    {
     "name": "stdout",
     "output_type": "stream",
     "text": [
      "\n"
     ]
    },
    {
     "name": "stdout",
     "output_type": "stream",
     "text": [
      "Process 2747: Main     : received data (array([[0.37719693, 0.40610852]]), array([[-0.69373954]]))\n"
     ]
    },
    {
     "name": "stdout",
     "output_type": "stream",
     "text": [
      "Process 2789: Observer : observed data (array([[0.31722386, 0.31603048]]), array([[-0.63058413]]))"
     ]
    },
    {
     "name": "stdout",
     "output_type": "stream",
     "text": [
      "\n"
     ]
    },
    {
     "name": "stdout",
     "output_type": "stream",
     "text": [
      "Process 2747: Main     : acquired point [[0.31304446 0.44018476]]\n"
     ]
    },
    {
     "name": "stdout",
     "output_type": "stream",
     "text": [
      "Process 2785: Observer : observing data at point [[0.31304446 0.44018476]]"
     ]
    },
    {
     "name": "stdout",
     "output_type": "stream",
     "text": [
      "\n"
     ]
    },
    {
     "name": "stdout",
     "output_type": "stream",
     "text": [
      "Process 2747: Main     : received data (array([[0.31722386, 0.31603048]]), array([[-0.63058413]]))\n"
     ]
    },
    {
     "name": "stdout",
     "output_type": "stream",
     "text": [
      "Process 2785: Objective: pretends like it's doing something for 2.3s"
     ]
    },
    {
     "name": "stdout",
     "output_type": "stream",
     "text": [
      "\n"
     ]
    },
    {
     "name": "stdout",
     "output_type": "stream",
     "text": [
      "Process 2793: Observer : observed data (array([[0.4180659 , 0.32608836]]), array([[-0.79839158]]))"
     ]
    },
    {
     "name": "stdout",
     "output_type": "stream",
     "text": [
      "\n"
     ]
    },
    {
     "name": "stdout",
     "output_type": "stream",
     "text": [
      "Process 2747: Main     : acquired point [[0.26779595 0.49983296]]\n"
     ]
    },
    {
     "name": "stdout",
     "output_type": "stream",
     "text": [
      "Process 2747: Main     : received data (array([[0.4180659 , 0.32608836]]), array([[-0.79839158]]))\n"
     ]
    },
    {
     "name": "stdout",
     "output_type": "stream",
     "text": [
      "Process 2789: Observer : observing data at point [[0.26779595 0.49983296]]"
     ]
    },
    {
     "name": "stdout",
     "output_type": "stream",
     "text": [
      "Process 2789: Objective: pretends like it's doing something for 2.3s"
     ]
    },
    {
     "name": "stdout",
     "output_type": "stream",
     "text": [
      "\n"
     ]
    },
    {
     "name": "stdout",
     "output_type": "stream",
     "text": [
      "\n"
     ]
    },
    {
     "name": "stdout",
     "output_type": "stream",
     "text": [
      "Process 2785: Observer : observed data (array([[0.31304446, 0.44018476]]), array([[-0.68600198]]))"
     ]
    },
    {
     "name": "stdout",
     "output_type": "stream",
     "text": [
      "\n"
     ]
    },
    {
     "name": "stdout",
     "output_type": "stream",
     "text": [
      "Process 2747: Main     : acquired point [[0.53398424 0.38557204]]\n"
     ]
    },
    {
     "name": "stdout",
     "output_type": "stream",
     "text": [
      "Process 2793: Observer : observing data at point [[0.53398424 0.38557204]]"
     ]
    },
    {
     "name": "stdout",
     "output_type": "stream",
     "text": [
      "Process 2747: Main     : received data (array([[0.31304446, 0.44018476]]), array([[-0.68600198]]))\n"
     ]
    },
    {
     "name": "stdout",
     "output_type": "stream",
     "text": [
      "\n"
     ]
    },
    {
     "name": "stdout",
     "output_type": "stream",
     "text": [
      "Process 2793: Objective: pretends like it's doing something for 2.8s"
     ]
    },
    {
     "name": "stdout",
     "output_type": "stream",
     "text": [
      "\n"
     ]
    },
    {
     "name": "stdout",
     "output_type": "stream",
     "text": [
      "Process 2789: Observer : observed data (array([[0.26779595, 0.49983296]]), array([[-0.75936474]]))"
     ]
    },
    {
     "name": "stdout",
     "output_type": "stream",
     "text": [
      "\n"
     ]
    },
    {
     "name": "stdout",
     "output_type": "stream",
     "text": [
      "Process 2747: Main     : acquired point [[0.60243967 0.29577887]]\n"
     ]
    },
    {
     "name": "stdout",
     "output_type": "stream",
     "text": [
      "Process 2747: Main     : received data (array([[0.26779595, 0.49983296]]), array([[-0.75936474]]))\n"
     ]
    },
    {
     "name": "stdout",
     "output_type": "stream",
     "text": [
      "Process 2785: Observer : observing data at point [[0.60243967 0.29577887]]"
     ]
    },
    {
     "name": "stdout",
     "output_type": "stream",
     "text": [
      "\n"
     ]
    },
    {
     "name": "stdout",
     "output_type": "stream",
     "text": [
      "Process 2785: Objective: pretends like it's doing something for 2.7s"
     ]
    },
    {
     "name": "stdout",
     "output_type": "stream",
     "text": [
      "\n"
     ]
    },
    {
     "name": "stdout",
     "output_type": "stream",
     "text": [
      "Process 2747: Main     : acquired point [[0.70150251 0.28450126]]\n"
     ]
    },
    {
     "name": "stdout",
     "output_type": "stream",
     "text": [
      "Process 2789: Observer : observing data at point [[0.70150251 0.28450126]]"
     ]
    },
    {
     "name": "stdout",
     "output_type": "stream",
     "text": [
      "\n"
     ]
    },
    {
     "name": "stdout",
     "output_type": "stream",
     "text": [
      "Process 2789: Objective: pretends like it's doing something for 3.0s"
     ]
    },
    {
     "name": "stdout",
     "output_type": "stream",
     "text": [
      "\n"
     ]
    },
    {
     "name": "stdout",
     "output_type": "stream",
     "text": [
      "Process 2793: Observer : observed data (array([[0.53398424, 0.38557204]]), array([[-0.82280651]]))"
     ]
    },
    {
     "name": "stdout",
     "output_type": "stream",
     "text": [
      "\n"
     ]
    },
    {
     "name": "stdout",
     "output_type": "stream",
     "text": [
      "Process 2747: Main     : received data (array([[0.53398424, 0.38557204]]), array([[-0.82280651]]))\n"
     ]
    },
    {
     "name": "stdout",
     "output_type": "stream",
     "text": [
      "Process 2785: Observer : observed data (array([[0.60243967, 0.29577887]]), array([[-0.83194927]]))"
     ]
    },
    {
     "name": "stdout",
     "output_type": "stream",
     "text": [
      "\n"
     ]
    },
    {
     "name": "stdout",
     "output_type": "stream",
     "text": [
      "Process 2747: Main     : acquired point [[0.7828297  0.29557119]]\n"
     ]
    },
    {
     "name": "stdout",
     "output_type": "stream",
     "text": [
      "Process 2747: Main     : received data (array([[0.60243967, 0.29577887]]), array([[-0.83194927]]))\n"
     ]
    },
    {
     "name": "stdout",
     "output_type": "stream",
     "text": [
      "Process 2793: Observer : observing data at point [[0.7828297  0.29557119]]"
     ]
    },
    {
     "name": "stdout",
     "output_type": "stream",
     "text": [
      "\n"
     ]
    },
    {
     "name": "stdout",
     "output_type": "stream",
     "text": [
      "Process 2793: Objective: pretends like it's doing something for 3.2s"
     ]
    },
    {
     "name": "stdout",
     "output_type": "stream",
     "text": [
      "\n"
     ]
    },
    {
     "name": "stdout",
     "output_type": "stream",
     "text": [
      "Process 2747: Main     : acquired point [[0.56385754 0.33345483]]\n"
     ]
    },
    {
     "name": "stdout",
     "output_type": "stream",
     "text": [
      "Process 2785: Observer : observing data at point [[0.56385754 0.33345483]]"
     ]
    },
    {
     "name": "stdout",
     "output_type": "stream",
     "text": [
      "\n"
     ]
    },
    {
     "name": "stdout",
     "output_type": "stream",
     "text": [
      "Process 2785: Objective: pretends like it's doing something for 2.7s"
     ]
    },
    {
     "name": "stdout",
     "output_type": "stream",
     "text": [
      "\n"
     ]
    },
    {
     "name": "stdout",
     "output_type": "stream",
     "text": [
      "Process 2789: Observer : observed data (array([[0.70150251, 0.28450126]]), array([[-0.54165009]]))"
     ]
    },
    {
     "name": "stdout",
     "output_type": "stream",
     "text": [
      "\n"
     ]
    },
    {
     "name": "stdout",
     "output_type": "stream",
     "text": [
      "Process 2747: Main     : received data (array([[0.70150251, 0.28450126]]), array([[-0.54165009]]))\n"
     ]
    },
    {
     "name": "stdout",
     "output_type": "stream",
     "text": [
      "Process 2747: Main     : acquired point [[0.53170921 0.31624937]]\n"
     ]
    },
    {
     "name": "stdout",
     "output_type": "stream",
     "text": [
      "Process 2789: Observer : observing data at point [[0.53170921 0.31624937]]"
     ]
    },
    {
     "name": "stdout",
     "output_type": "stream",
     "text": [
      "\n"
     ]
    },
    {
     "name": "stdout",
     "output_type": "stream",
     "text": [
      "Process 2789: Objective: pretends like it's doing something for 2.5s"
     ]
    },
    {
     "name": "stdout",
     "output_type": "stream",
     "text": [
      "\n"
     ]
    },
    {
     "name": "stdout",
     "output_type": "stream",
     "text": [
      "Process 2793: Observer : observed data (array([[0.7828297 , 0.29557119]]), array([[-0.48830707]]))"
     ]
    },
    {
     "name": "stdout",
     "output_type": "stream",
     "text": [
      "\n"
     ]
    },
    {
     "name": "stdout",
     "output_type": "stream",
     "text": [
      "Process 2747: Main     : received data (array([[0.7828297 , 0.29557119]]), array([[-0.48830707]]))\n"
     ]
    },
    {
     "name": "stdout",
     "output_type": "stream",
     "text": [
      "Process 2785: Observer : observed data (array([[0.56385754, 0.33345483]]), array([[-0.86950969]]))"
     ]
    },
    {
     "name": "stdout",
     "output_type": "stream",
     "text": [
      "\n"
     ]
    },
    {
     "name": "stdout",
     "output_type": "stream",
     "text": [
      "Process 2747: Main     : acquired point [[0.5431861 0.320715 ]]\n"
     ]
    },
    {
     "name": "stdout",
     "output_type": "stream",
     "text": [
      "Process 2747: Main     : received data (array([[0.56385754, 0.33345483]]), array([[-0.86950969]]))\n"
     ]
    },
    {
     "name": "stdout",
     "output_type": "stream",
     "text": [
      "Process 2793: Observer : observing data at point [[0.5431861 0.320715 ]]"
     ]
    },
    {
     "name": "stdout",
     "output_type": "stream",
     "text": [
      "\n"
     ]
    },
    {
     "name": "stdout",
     "output_type": "stream",
     "text": [
      "Process 2793: Objective: pretends like it's doing something for 2.6s"
     ]
    },
    {
     "name": "stdout",
     "output_type": "stream",
     "text": [
      "\n"
     ]
    },
    {
     "name": "stdout",
     "output_type": "stream",
     "text": [
      "Process 2789: Observer : observed data (array([[0.53170921, 0.31624937]]), array([[-0.93983462]]))"
     ]
    },
    {
     "name": "stdout",
     "output_type": "stream",
     "text": [
      "\n"
     ]
    },
    {
     "name": "stdout",
     "output_type": "stream",
     "text": [
      "Process 2747: Main     : acquired point [[0.0599459  0.69523599]]\n"
     ]
    },
    {
     "name": "stdout",
     "output_type": "stream",
     "text": [
      "Process 2747: Main     : received data (array([[0.53170921, 0.31624937]]), array([[-0.93983462]]))\n"
     ]
    },
    {
     "name": "stdout",
     "output_type": "stream",
     "text": [
      "Process 2785: Observer : observing data at point [[0.0599459  0.69523599]]"
     ]
    },
    {
     "name": "stdout",
     "output_type": "stream",
     "text": [
      "\n"
     ]
    },
    {
     "name": "stdout",
     "output_type": "stream",
     "text": [
      "Process 2785: Objective: pretends like it's doing something for 2.3s"
     ]
    },
    {
     "name": "stdout",
     "output_type": "stream",
     "text": [
      "\n"
     ]
    },
    {
     "name": "stdout",
     "output_type": "stream",
     "text": [
      "Process 2747: Main     : acquired point [[0.13770402 0.85284336]]\n"
     ]
    },
    {
     "name": "stdout",
     "output_type": "stream",
     "text": [
      "Process 2789: Observer : observing data at point [[0.13770402 0.85284336]]"
     ]
    },
    {
     "name": "stdout",
     "output_type": "stream",
     "text": [
      "\n"
     ]
    },
    {
     "name": "stdout",
     "output_type": "stream",
     "text": [
      "Process 2789: Objective: pretends like it's doing something for 3.0s"
     ]
    },
    {
     "name": "stdout",
     "output_type": "stream",
     "text": [
      "\n"
     ]
    },
    {
     "name": "stdout",
     "output_type": "stream",
     "text": [
      "Process 2793: Observer : observed data (array([[0.5431861, 0.320715 ]]), array([[-0.92314749]]))"
     ]
    },
    {
     "name": "stdout",
     "output_type": "stream",
     "text": [
      "\n"
     ]
    },
    {
     "name": "stdout",
     "output_type": "stream",
     "text": [
      "Process 2747: Main     : received data (array([[0.5431861, 0.320715 ]]), array([[-0.92314749]]))\n"
     ]
    },
    {
     "name": "stdout",
     "output_type": "stream",
     "text": [
      "Process 2785: Observer : observed data (array([[0.0599459 , 0.69523599]]), array([[-0.61762269]]))"
     ]
    },
    {
     "name": "stdout",
     "output_type": "stream",
     "text": [
      "\n"
     ]
    },
    {
     "name": "stdout",
     "output_type": "stream",
     "text": [
      "Process 2747: Main     : acquired point [[1.         0.01975984]]\n"
     ]
    },
    {
     "name": "stdout",
     "output_type": "stream",
     "text": [
      "Process 2793: Observer : observing data at point [[1.         0.01975984]]"
     ]
    },
    {
     "name": "stdout",
     "output_type": "stream",
     "text": [
      "Process 2747: Main     : received data (array([[0.0599459 , 0.69523599]]), array([[-0.61762269]]))\n"
     ]
    },
    {
     "name": "stdout",
     "output_type": "stream",
     "text": [
      "\n"
     ]
    },
    {
     "name": "stdout",
     "output_type": "stream",
     "text": [
      "Process 2793: Objective: pretends like it's doing something for 3.1s"
     ]
    },
    {
     "name": "stdout",
     "output_type": "stream",
     "text": [
      "\n"
     ]
    },
    {
     "name": "stdout",
     "output_type": "stream",
     "text": [
      "Process 2747: Main     : acquired point [[0.52685885 0.22923977]]\n"
     ]
    },
    {
     "name": "stdout",
     "output_type": "stream",
     "text": [
      "Process 2785: Observer : observing data at point [[0.52685885 0.22923977]]"
     ]
    },
    {
     "name": "stdout",
     "output_type": "stream",
     "text": [
      "\n"
     ]
    },
    {
     "name": "stdout",
     "output_type": "stream",
     "text": [
      "Process 2785: Objective: pretends like it's doing something for 2.3s"
     ]
    },
    {
     "name": "stdout",
     "output_type": "stream",
     "text": [
      "\n"
     ]
    },
    {
     "name": "stdout",
     "output_type": "stream",
     "text": [
      "Process 2789: Observer : observed data (array([[0.13770402, 0.85284336]]), array([[-1.02380817]]))"
     ]
    },
    {
     "name": "stdout",
     "output_type": "stream",
     "text": [
      "\n"
     ]
    },
    {
     "name": "stdout",
     "output_type": "stream",
     "text": [
      "Process 2747: Main     : received data (array([[0.13770402, 0.85284336]]), array([[-1.02380817]]))\n"
     ]
    },
    {
     "name": "stdout",
     "output_type": "stream",
     "text": [
      "Process 2747: Main     : acquired point [[0.26351695 0.85872959]]\n"
     ]
    },
    {
     "name": "stdout",
     "output_type": "stream",
     "text": [
      "Process 2789: Observer : observing data at point [[0.26351695 0.85872959]]"
     ]
    },
    {
     "name": "stdout",
     "output_type": "stream",
     "text": [
      "\n"
     ]
    },
    {
     "name": "stdout",
     "output_type": "stream",
     "text": [
      "Process 2789: Objective: pretends like it's doing something for 3.4s"
     ]
    },
    {
     "name": "stdout",
     "output_type": "stream",
     "text": [
      "\n"
     ]
    },
    {
     "name": "stdout",
     "output_type": "stream",
     "text": [
      "Process 2793: Observer : observed data (array([[1.        , 0.01975984]]), array([[-0.87663904]]))"
     ]
    },
    {
     "name": "stdout",
     "output_type": "stream",
     "text": [
      "\n"
     ]
    },
    {
     "name": "stdout",
     "output_type": "stream",
     "text": [
      "Process 2747: Main     : received data (array([[1.        , 0.01975984]]), array([[-0.87663904]]))\n"
     ]
    },
    {
     "name": "stdout",
     "output_type": "stream",
     "text": [
      "Process 2785: Observer : observed data (array([[0.52685885, 0.22923977]]), array([[-1.02403826]]))"
     ]
    },
    {
     "name": "stdout",
     "output_type": "stream",
     "text": [
      "\n"
     ]
    },
    {
     "name": "stdout",
     "output_type": "stream",
     "text": [
      "Process 2747: Main     : acquired point [[0.26141689 0.95451084]]\n"
     ]
    },
    {
     "name": "stdout",
     "output_type": "stream",
     "text": [
      "Process 2747: Main     : received data (array([[0.52685885, 0.22923977]]), array([[-1.02403826]]))\n"
     ]
    },
    {
     "name": "stdout",
     "output_type": "stream",
     "text": [
      "Process 2793: Observer : observing data at point [[0.26141689 0.95451084]]"
     ]
    },
    {
     "name": "stdout",
     "output_type": "stream",
     "text": [
      "\n"
     ]
    },
    {
     "name": "stdout",
     "output_type": "stream",
     "text": [
      "Process 2793: Objective: pretends like it's doing something for 3.6s"
     ]
    },
    {
     "name": "stdout",
     "output_type": "stream",
     "text": [
      "\n"
     ]
    },
    {
     "name": "stdout",
     "output_type": "stream",
     "text": [
      "Process 2747: Main     : acquired point [[0.21109213 1.        ]]\n"
     ]
    },
    {
     "name": "stdout",
     "output_type": "stream",
     "text": [
      "Process 2785: Observer : observing data at point [[0.21109213 1.        ]]"
     ]
    },
    {
     "name": "stdout",
     "output_type": "stream",
     "text": [
      "\n"
     ]
    },
    {
     "name": "stdout",
     "output_type": "stream",
     "text": [
      "Process 2785: Objective: pretends like it's doing something for 3.6s"
     ]
    },
    {
     "name": "stdout",
     "output_type": "stream",
     "text": [
      "\n"
     ]
    },
    {
     "name": "stdout",
     "output_type": "stream",
     "text": [
      "Process 2789: Observer : observed data (array([[0.26351695, 0.85872959]]), array([[-0.27485811]]))"
     ]
    },
    {
     "name": "stdout",
     "output_type": "stream",
     "text": [
      "\n"
     ]
    },
    {
     "name": "stdout",
     "output_type": "stream",
     "text": [
      "Process 2747: Main     : received data (array([[0.26351695, 0.85872959]]), array([[-0.27485811]]))\n"
     ]
    },
    {
     "name": "stdout",
     "output_type": "stream",
     "text": [
      "Process 2747: Main     : acquired point [[0.04643577 1.        ]]\n"
     ]
    },
    {
     "name": "stdout",
     "output_type": "stream",
     "text": [
      "Process 2789: Observer : observing data at point [[0.04643577 1.        ]]"
     ]
    },
    {
     "name": "stdout",
     "output_type": "stream",
     "text": [
      "\n"
     ]
    },
    {
     "name": "stdout",
     "output_type": "stream",
     "text": [
      "Process 2789: Objective: pretends like it's doing something for 3.1s"
     ]
    },
    {
     "name": "stdout",
     "output_type": "stream",
     "text": [
      "\n"
     ]
    },
    {
     "name": "stdout",
     "output_type": "stream",
     "text": [
      "Process 2793: Observer : observed data (array([[0.26141689, 0.95451084]]), array([[0.02569203]]))"
     ]
    },
    {
     "name": "stdout",
     "output_type": "stream",
     "text": [
      "\n"
     ]
    },
    {
     "name": "stdout",
     "output_type": "stream",
     "text": [
      "Process 2747: Main     : received data (array([[0.26141689, 0.95451084]]), array([[0.02569203]]))\n"
     ]
    },
    {
     "name": "stdout",
     "output_type": "stream",
     "text": [
      "Process 2785: Observer : observed data (array([[0.21109213, 1.        ]]), array([[-0.29666846]]))"
     ]
    },
    {
     "name": "stdout",
     "output_type": "stream",
     "text": [
      "\n"
     ]
    },
    {
     "name": "stdout",
     "output_type": "stream",
     "text": [
      "Process 2747: Main     : acquired point [[0.83707817 0.        ]]\n"
     ]
    },
    {
     "name": "stdout",
     "output_type": "stream",
     "text": [
      "Process 2793: Observer : observing data at point [[0.83707817 0.        ]]"
     ]
    },
    {
     "name": "stdout",
     "output_type": "stream",
     "text": [
      "Process 2747: Main     : received data (array([[0.21109213, 1.        ]]), array([[-0.29666846]]))\n"
     ]
    },
    {
     "name": "stdout",
     "output_type": "stream",
     "text": [
      "\n"
     ]
    },
    {
     "name": "stdout",
     "output_type": "stream",
     "text": [
      "Process 2793: Objective: pretends like it's doing something for 2.5s"
     ]
    },
    {
     "name": "stdout",
     "output_type": "stream",
     "text": [
      "\n"
     ]
    },
    {
     "name": "stdout",
     "output_type": "stream",
     "text": [
      "Process 2747: Main     : acquired point [[0.76153328 0.        ]]\n"
     ]
    },
    {
     "name": "stdout",
     "output_type": "stream",
     "text": [
      "Process 2785: Observer : observing data at point [[0.76153328 0.        ]]"
     ]
    },
    {
     "name": "stdout",
     "output_type": "stream",
     "text": [
      "\n"
     ]
    },
    {
     "name": "stdout",
     "output_type": "stream",
     "text": [
      "Process 2785: Objective: pretends like it's doing something for 2.3s"
     ]
    },
    {
     "name": "stdout",
     "output_type": "stream",
     "text": [
      "\n"
     ]
    },
    {
     "name": "stdout",
     "output_type": "stream",
     "text": [
      "Process 2789: Observer : observed data (array([[0.04643577, 1.        ]]), array([[-0.9349304]]))"
     ]
    },
    {
     "name": "stdout",
     "output_type": "stream",
     "text": [
      "\n"
     ]
    },
    {
     "name": "stdout",
     "output_type": "stream",
     "text": [
      "Process 2747: Main     : received data (array([[0.04643577, 1.        ]]), array([[-0.9349304]]))\n"
     ]
    },
    {
     "name": "stdout",
     "output_type": "stream",
     "text": [
      "Process 2793: Observer : observed data (array([[0.83707817, 0.        ]]), array([[-0.77325033]]))"
     ]
    },
    {
     "name": "stdout",
     "output_type": "stream",
     "text": [
      "\n"
     ]
    },
    {
     "name": "stdout",
     "output_type": "stream",
     "text": [
      "Process 2747: Main     : acquired point [[0.61712388 0.        ]]\n"
     ]
    },
    {
     "name": "stdout",
     "output_type": "stream",
     "text": [
      "Process 2747: Main     : received data (array([[0.83707817, 0.        ]]), array([[-0.77325033]]))\n"
     ]
    },
    {
     "name": "stdout",
     "output_type": "stream",
     "text": [
      "Process 2789: Observer : observing data at point [[0.61712388 0.        ]]"
     ]
    },
    {
     "name": "stdout",
     "output_type": "stream",
     "text": [
      "\n"
     ]
    },
    {
     "name": "stdout",
     "output_type": "stream",
     "text": [
      "\n"
     ]
    },
    {
     "name": "stdout",
     "output_type": "stream",
     "text": [
      "Process 2789: Objective: pretends like it's doing something for 1.9s"
     ]
    },
    {
     "name": "stdout",
     "output_type": "stream",
     "text": [
      "Process 2785: Observer : observed data (array([[0.76153328, 0.        ]]), array([[-0.65594206]]))"
     ]
    },
    {
     "name": "stdout",
     "output_type": "stream",
     "text": [
      "\n"
     ]
    },
    {
     "name": "stdout",
     "output_type": "stream",
     "text": [
      "Process 2747: Main     : acquired point [[0.55828008 0.        ]]\n"
     ]
    },
    {
     "name": "stdout",
     "output_type": "stream",
     "text": [
      "Process 2747: Main     : received data (array([[0.76153328, 0.        ]]), array([[-0.65594206]]))\n"
     ]
    },
    {
     "name": "stdout",
     "output_type": "stream",
     "text": [
      "Process 2793: Observer : observing data at point [[0.55828008 0.        ]]"
     ]
    },
    {
     "name": "stdout",
     "output_type": "stream",
     "text": [
      "\n"
     ]
    },
    {
     "name": "stdout",
     "output_type": "stream",
     "text": [
      "Process 2793: Objective: pretends like it's doing something for 1.7s"
     ]
    },
    {
     "name": "stdout",
     "output_type": "stream",
     "text": [
      "\n"
     ]
    },
    {
     "name": "stdout",
     "output_type": "stream",
     "text": [
      "Process 2789: Observer : observed data (array([[0.61712388, 0.        ]]), array([[-0.89667376]]))"
     ]
    },
    {
     "name": "stdout",
     "output_type": "stream",
     "text": [
      "\n"
     ]
    },
    {
     "name": "stdout",
     "output_type": "stream",
     "text": [
      "Process 2747: Main     : acquired point [[0.10533803 0.8743266 ]]\n"
     ]
    },
    {
     "name": "stdout",
     "output_type": "stream",
     "text": [
      "Process 2785: Observer : observing data at point [[0.10533803 0.8743266 ]]"
     ]
    },
    {
     "name": "stdout",
     "output_type": "stream",
     "text": [
      "\n"
     ]
    },
    {
     "name": "stdout",
     "output_type": "stream",
     "text": [
      "Process 2747: Main     : received data (array([[0.61712388, 0.        ]]), array([[-0.89667376]]))\n"
     ]
    },
    {
     "name": "stdout",
     "output_type": "stream",
     "text": [
      "Process 2785: Objective: pretends like it's doing something for 2.9s"
     ]
    },
    {
     "name": "stdout",
     "output_type": "stream",
     "text": [
      "\n"
     ]
    },
    {
     "name": "stdout",
     "output_type": "stream",
     "text": [
      "Process 2793: Observer : observed data (array([[0.55828008, 0.        ]]), array([[-0.95747917]]))"
     ]
    },
    {
     "name": "stdout",
     "output_type": "stream",
     "text": [
      "\n"
     ]
    },
    {
     "name": "stdout",
     "output_type": "stream",
     "text": [
      "Process 2747: Main     : acquired point [[0.54055071 0.13384614]]\n"
     ]
    },
    {
     "name": "stdout",
     "output_type": "stream",
     "text": [
      "Process 2747: Main     : received data (array([[0.55828008, 0.        ]]), array([[-0.95747917]]))\n"
     ]
    },
    {
     "name": "stdout",
     "output_type": "stream",
     "text": [
      "Process 2789: Observer : observing data at point [[0.54055071 0.13384614]]"
     ]
    },
    {
     "name": "stdout",
     "output_type": "stream",
     "text": [
      "Process 2789: Objective: pretends like it's doing something for 2.0s"
     ]
    },
    {
     "name": "stdout",
     "output_type": "stream",
     "text": [
      "\n"
     ]
    },
    {
     "name": "stdout",
     "output_type": "stream",
     "text": [
      "\n"
     ]
    },
    {
     "name": "stdout",
     "output_type": "stream",
     "text": [
      "Process 2747: Main     : acquired point [[0.54225331 0.15144783]]\n"
     ]
    },
    {
     "name": "stdout",
     "output_type": "stream",
     "text": [
      "Process 2793: Observer : observing data at point [[0.54225331 0.15144783]]"
     ]
    },
    {
     "name": "stdout",
     "output_type": "stream",
     "text": [
      "\n"
     ]
    },
    {
     "name": "stdout",
     "output_type": "stream",
     "text": [
      "Process 2793: Objective: pretends like it's doing something for 2.1s"
     ]
    },
    {
     "name": "stdout",
     "output_type": "stream",
     "text": [
      "\n"
     ]
    },
    {
     "name": "stdout",
     "output_type": "stream",
     "text": [
      "Process 2785: Observer : observed data (array([[0.10533803, 0.8743266 ]]), array([[-1.03978149]]))"
     ]
    },
    {
     "name": "stdout",
     "output_type": "stream",
     "text": [
      "\n"
     ]
    },
    {
     "name": "stdout",
     "output_type": "stream",
     "text": [
      "Process 2747: Main     : received data (array([[0.10533803, 0.8743266 ]]), array([[-1.03978149]]))\n"
     ]
    },
    {
     "name": "stdout",
     "output_type": "stream",
     "text": [
      "Process 2789: Observer : observed data (array([[0.54055071, 0.13384614]]), array([[-1.04563366]]))"
     ]
    },
    {
     "name": "stdout",
     "output_type": "stream",
     "text": [
      "\n"
     ]
    },
    {
     "name": "stdout",
     "output_type": "stream",
     "text": [
      "Process 2747: Main     : acquired point [[0.54638125 0.14338879]]\n"
     ]
    },
    {
     "name": "stdout",
     "output_type": "stream",
     "text": [
      "Process 2747: Main     : received data (array([[0.54055071, 0.13384614]]), array([[-1.04563366]]))\n"
     ]
    },
    {
     "name": "stdout",
     "output_type": "stream",
     "text": [
      "Process 2785: Observer : observing data at point [[0.54638125 0.14338879]]"
     ]
    },
    {
     "name": "stdout",
     "output_type": "stream",
     "text": [
      "\n"
     ]
    },
    {
     "name": "stdout",
     "output_type": "stream",
     "text": [
      "Process 2785: Objective: pretends like it's doing something for 2.1s"
     ]
    },
    {
     "name": "stdout",
     "output_type": "stream",
     "text": [
      "\n"
     ]
    },
    {
     "name": "stdout",
     "output_type": "stream",
     "text": [
      "Process 2793: Observer : observed data (array([[0.54225331, 0.15144783]]), array([[-1.04738659]]))"
     ]
    },
    {
     "name": "stdout",
     "output_type": "stream",
     "text": [
      "\n"
     ]
    },
    {
     "name": "stdout",
     "output_type": "stream",
     "text": [
      "Process 2747: Main     : acquired point [[0.13257036 0.79040786]]\n"
     ]
    },
    {
     "name": "stdout",
     "output_type": "stream",
     "text": [
      "Process 2789: Observer : observing data at point [[0.13257036 0.79040786]]"
     ]
    },
    {
     "name": "stdout",
     "output_type": "stream",
     "text": [
      "Process 2747: Main     : received data (array([[0.54225331, 0.15144783]]), array([[-1.04738659]]))\n"
     ]
    },
    {
     "name": "stdout",
     "output_type": "stream",
     "text": [
      "\n"
     ]
    },
    {
     "name": "stdout",
     "output_type": "stream",
     "text": [
      "Process 2789: Objective: pretends like it's doing something for 2.8s"
     ]
    },
    {
     "name": "stdout",
     "output_type": "stream",
     "text": [
      "\n"
     ]
    },
    {
     "name": "stdout",
     "output_type": "stream",
     "text": [
      "Process 2785: Observer : observed data (array([[0.54638125, 0.14338879]]), array([[-1.04699272]]))"
     ]
    },
    {
     "name": "stdout",
     "output_type": "stream",
     "text": [
      "\n"
     ]
    },
    {
     "name": "stdout",
     "output_type": "stream",
     "text": [
      "Process 2747: Main     : acquired point [[0.1348253  0.78305195]]\n"
     ]
    },
    {
     "name": "stdout",
     "output_type": "stream",
     "text": [
      "Process 2747: Main     : received data (array([[0.54638125, 0.14338879]]), array([[-1.04699272]]))\n"
     ]
    },
    {
     "name": "stdout",
     "output_type": "stream",
     "text": [
      "Process 2793: Observer : observing data at point [[0.1348253  0.78305195]]"
     ]
    },
    {
     "name": "stdout",
     "output_type": "stream",
     "text": [
      "\n"
     ]
    },
    {
     "name": "stdout",
     "output_type": "stream",
     "text": [
      "Process 2793: Objective: pretends like it's doing something for 2.8s"
     ]
    },
    {
     "name": "stdout",
     "output_type": "stream",
     "text": [
      "\n"
     ]
    },
    {
     "name": "stdout",
     "output_type": "stream",
     "text": [
      "Process 2789: Observer : observed data (array([[0.13257036, 0.79040786]]), array([[-1.04560495]]))"
     ]
    },
    {
     "name": "stdout",
     "output_type": "stream",
     "text": [
      "\n"
     ]
    },
    {
     "name": "stdout",
     "output_type": "stream",
     "text": [
      "Process 2747: Main     : acquired point [[0.1369843  0.77619939]]\n"
     ]
    },
    {
     "name": "stdout",
     "output_type": "stream",
     "text": [
      "Process 2747: Main     : received data (array([[0.13257036, 0.79040786]]), array([[-1.04560495]]))\n"
     ]
    },
    {
     "name": "stdout",
     "output_type": "stream",
     "text": [
      "Process 2785: Observer : observing data at point [[0.1369843  0.77619939]]"
     ]
    },
    {
     "name": "stdout",
     "output_type": "stream",
     "text": [
      "\n"
     ]
    },
    {
     "name": "stdout",
     "output_type": "stream",
     "text": [
      "Process 2785: Objective: pretends like it's doing something for 2.7s"
     ]
    },
    {
     "name": "stdout",
     "output_type": "stream",
     "text": [
      "\n"
     ]
    },
    {
     "name": "stdout",
     "output_type": "stream",
     "text": [
      "Process 2793: Observer : observed data (array([[0.1348253 , 0.78305195]]), array([[-1.04454472]]))"
     ]
    },
    {
     "name": "stdout",
     "output_type": "stream",
     "text": [
      "\n"
     ]
    },
    {
     "name": "stdout",
     "output_type": "stream",
     "text": [
      "Process 2747: Main     : acquired point [[0.12209155 0.82365101]]\n"
     ]
    },
    {
     "name": "stdout",
     "output_type": "stream",
     "text": [
      "Process 2747: Main     : received data (array([[0.1348253 , 0.78305195]]), array([[-1.04454472]]))\n"
     ]
    },
    {
     "name": "stdout",
     "output_type": "stream",
     "text": [
      "Process 2789: Observer : observing data at point [[0.12209155 0.82365101]]"
     ]
    },
    {
     "name": "stdout",
     "output_type": "stream",
     "text": [
      "\n"
     ]
    },
    {
     "name": "stdout",
     "output_type": "stream",
     "text": [
      "Process 2789: Objective: pretends like it's doing something for 2.8s"
     ]
    },
    {
     "name": "stdout",
     "output_type": "stream",
     "text": [
      "\n"
     ]
    },
    {
     "name": "stdout",
     "output_type": "stream",
     "text": [
      "Process 2747: Main     : acquired point [[0.96700015 0.19099681]]\n"
     ]
    },
    {
     "name": "stdout",
     "output_type": "stream",
     "text": [
      "Process 2793: Observer : observing data at point [[0.96700015 0.19099681]]"
     ]
    },
    {
     "name": "stdout",
     "output_type": "stream",
     "text": [
      "\n"
     ]
    },
    {
     "name": "stdout",
     "output_type": "stream",
     "text": [
      "Process 2793: Objective: pretends like it's doing something for 3.5s"
     ]
    },
    {
     "name": "stdout",
     "output_type": "stream",
     "text": [
      "\n"
     ]
    },
    {
     "name": "stdout",
     "output_type": "stream",
     "text": [
      "Got 33 observations in 46.05s\n"
     ]
    }
   ],
   "source": [
    "\n",
    "# setup Ask Tell BO\n",
    "local_penalization_acq = LocalPenalization(search_space, num_samples=2000)\n",
    "local_penalization_rule = AsynchronousGreedy(builder=local_penalization_acq)  # type: ignore\n",
    "\n",
    "async_bo = AskTellOptimizer(\n",
    "    search_space, initial_data, model, local_penalization_rule\n",
    ")\n",
    "\n",
    "# retrieve process id for nice logging\n",
    "pid = os.getpid()\n",
    "# create point and observation queues\n",
    "m = Manager()\n",
    "pq = m.Queue()\n",
    "oq = m.Queue()\n",
    "# keep track of all workers we have launched\n",
    "observer_processes = []\n",
    "# counter to keep track of collected observations\n",
    "points_observed = 0\n",
    "\n",
    "start = timeit.default_timer()\n",
    "try:\n",
    "    observer_processes = create_worker_processes(num_workers, pq, oq)\n",
    "\n",
    "    # init the queue with first batch of points\n",
    "    for _ in range(num_workers):\n",
    "        point = async_bo.ask()\n",
    "        pq.put(np.atleast_2d(point.numpy()))\n",
    "\n",
    "    while points_observed < num_observations:\n",
    "        # keep asking queue for new observations until one arrives\n",
    "        try:\n",
    "            new_data = oq.get_nowait()\n",
    "            print(\n",
    "                f\"Process {pid}: Main     : received data {new_data}\",\n",
    "                flush=True,\n",
    "            )\n",
    "        except:\n",
    "            continue\n",
    "\n",
    "        # new_data is a tuple of (point, observation value)\n",
    "        # here we turn it into a Dataset and tell of it Trieste\n",
    "        points_observed += 1\n",
    "        new_data = Dataset(\n",
    "            query_points=tf.constant(new_data[0], dtype=tf.float64),\n",
    "            observations=tf.constant(new_data[1], dtype=tf.float64),\n",
    "        )\n",
    "        async_bo.tell(new_data)\n",
    "\n",
    "        # now we can ask Trieste for one more point\n",
    "        # and feed that back into the points queue\n",
    "        point = async_bo.ask()\n",
    "        print(f\"Process {pid}: Main     : acquired point {point}\", flush=True)\n",
    "        pq.put(np.atleast_2d(point))\n",
    "finally:\n",
    "    terminate_processes(observer_processes)\n",
    "stop = timeit.default_timer()\n",
    "\n",
    "# Collect the observations, compute the running time\n",
    "async_lp_observations = (\n",
    "    async_bo.to_result().try_get_final_dataset().observations\n",
    "    - SCALED_BRANIN_MINIMUM\n",
    ")\n",
    "async_lp_time = stop - start\n",
    "print(f\"Got {len(async_lp_observations)} observations in {async_lp_time:.2f}s\")"
   ]
  },
  {
   "cell_type": "markdown",
   "id": "21475b3a",
   "metadata": {},
   "source": [
    "## Synchronous parallel optimization\n",
    "\n",
    "This section runs the synchronous parallel optimization with Trieste. We again use Local Penalization acquisition function, but this time with batch size equal to the number of workers we have available. Once Trieste suggests the batch, we add all points to the point queue, and workers immediatelly pick them up, one point per worker. Therefore all points in the batch are evaluated in parallel."
   ]
  },
  {
   "cell_type": "code",
   "execution_count": 9,
   "id": "ba7a00cf",
   "metadata": {
    "execution": {
     "iopub.execute_input": "2022-06-21T13:15:03.090258Z",
     "iopub.status.busy": "2022-06-21T13:15:03.089951Z",
     "iopub.status.idle": "2022-06-21T13:15:48.803203Z",
     "shell.execute_reply": "2022-06-21T13:15:48.802552Z"
    },
    "lines_to_next_cell": 2
   },
   "outputs": [
    {
     "name": "stdout",
     "output_type": "stream",
     "text": [
      "Process 2747: Main     : iteration 0 starts\n"
     ]
    },
    {
     "name": "stdout",
     "output_type": "stream",
     "text": [
      "Process 3222: Observer : observing data at point [[0.37719698 0.40610827]]"
     ]
    },
    {
     "name": "stdout",
     "output_type": "stream",
     "text": [
      "Process 3226: Observer : observing data at point [[0.31720977 0.31597809]]"
     ]
    },
    {
     "name": "stdout",
     "output_type": "stream",
     "text": [
      "Process 3230: Observer : observing data at point [[0.4180551  0.32613708]]"
     ]
    },
    {
     "name": "stdout",
     "output_type": "stream",
     "text": [
      "\n"
     ]
    },
    {
     "name": "stdout",
     "output_type": "stream",
     "text": [
      "\n"
     ]
    },
    {
     "name": "stdout",
     "output_type": "stream",
     "text": [
      "Process 3222: Objective: pretends like it's doing something for 2.3s"
     ]
    },
    {
     "name": "stdout",
     "output_type": "stream",
     "text": [
      "\n"
     ]
    },
    {
     "name": "stdout",
     "output_type": "stream",
     "text": [
      "Process 3230: Objective: pretends like it's doing something for 2.2s"
     ]
    },
    {
     "name": "stdout",
     "output_type": "stream",
     "text": [
      "Process 3226: Objective: pretends like it's doing something for 1.9s"
     ]
    },
    {
     "name": "stdout",
     "output_type": "stream",
     "text": [
      "\n"
     ]
    },
    {
     "name": "stdout",
     "output_type": "stream",
     "text": [
      "\n"
     ]
    },
    {
     "name": "stdout",
     "output_type": "stream",
     "text": [
      "\n"
     ]
    },
    {
     "name": "stdout",
     "output_type": "stream",
     "text": [
      "Process 3226: Observer : observed data (array([[0.31720977, 0.31597809]]), array([[-0.63052126]]))"
     ]
    },
    {
     "name": "stdout",
     "output_type": "stream",
     "text": [
      "\n"
     ]
    },
    {
     "name": "stdout",
     "output_type": "stream",
     "text": [
      "Process 2747: Main     : received data (array([[0.31720977, 0.31597809]]), array([[-0.63052126]]))\n"
     ]
    },
    {
     "name": "stdout",
     "output_type": "stream",
     "text": [
      "Process 3230: Observer : observed data (array([[0.4180551 , 0.32613708]]), array([[-0.79834866]]))"
     ]
    },
    {
     "name": "stdout",
     "output_type": "stream",
     "text": [
      "\n"
     ]
    },
    {
     "name": "stdout",
     "output_type": "stream",
     "text": [
      "Process 2747: Main     : received data (array([[0.4180551 , 0.32613708]]), array([[-0.79834866]]))\n"
     ]
    },
    {
     "name": "stdout",
     "output_type": "stream",
     "text": [
      "Process 3222: Observer : observed data (array([[0.37719698, 0.40610827]]), array([[-0.69373974]]))"
     ]
    },
    {
     "name": "stdout",
     "output_type": "stream",
     "text": [
      "\n"
     ]
    },
    {
     "name": "stdout",
     "output_type": "stream",
     "text": [
      "Process 2747: Main     : received data (array([[0.37719698, 0.40610827]]), array([[-0.69373974]]))\n"
     ]
    },
    {
     "name": "stdout",
     "output_type": "stream",
     "text": [
      "Process 2747: Main     : iteration 1 starts\n"
     ]
    },
    {
     "name": "stdout",
     "output_type": "stream",
     "text": [
      "Process 3226: Observer : observing data at point [[0.53394346 0.38562349]]"
     ]
    },
    {
     "name": "stdout",
     "output_type": "stream",
     "text": [
      "Process 3230: Observer : observing data at point [[0.58683097 0.30187661]]"
     ]
    },
    {
     "name": "stdout",
     "output_type": "stream",
     "text": [
      "\n"
     ]
    },
    {
     "name": "stdout",
     "output_type": "stream",
     "text": [
      "Process 3222: Observer : observing data at point [[0.56209516 0.47298877]]"
     ]
    },
    {
     "name": "stdout",
     "output_type": "stream",
     "text": [
      "Process 3230: Objective: pretends like it's doing something for 2.7s"
     ]
    },
    {
     "name": "stdout",
     "output_type": "stream",
     "text": [
      "\n"
     ]
    },
    {
     "name": "stdout",
     "output_type": "stream",
     "text": [
      "Process 3222: Objective: pretends like it's doing something for 3.1s"
     ]
    },
    {
     "name": "stdout",
     "output_type": "stream",
     "text": [
      "\n"
     ]
    },
    {
     "name": "stdout",
     "output_type": "stream",
     "text": [
      "\n"
     ]
    },
    {
     "name": "stdout",
     "output_type": "stream",
     "text": [
      "\n"
     ]
    },
    {
     "name": "stdout",
     "output_type": "stream",
     "text": [
      "Process 3226: Objective: pretends like it's doing something for 2.8s"
     ]
    },
    {
     "name": "stdout",
     "output_type": "stream",
     "text": [
      "\n"
     ]
    },
    {
     "name": "stdout",
     "output_type": "stream",
     "text": [
      "Process 3230: Observer : observed data (array([[0.58683097, 0.30187661]]), array([[-0.86688916]]))"
     ]
    },
    {
     "name": "stdout",
     "output_type": "stream",
     "text": [
      "\n"
     ]
    },
    {
     "name": "stdout",
     "output_type": "stream",
     "text": [
      "Process 2747: Main     : received data (array([[0.58683097, 0.30187661]]), array([[-0.86688916]]))\n"
     ]
    },
    {
     "name": "stdout",
     "output_type": "stream",
     "text": [
      "Process 3226: Observer : observed data (array([[0.53394346, 0.38562349]]), array([[-0.82275572]]))"
     ]
    },
    {
     "name": "stdout",
     "output_type": "stream",
     "text": [
      "\n"
     ]
    },
    {
     "name": "stdout",
     "output_type": "stream",
     "text": [
      "Process 2747: Main     : received data (array([[0.53394346, 0.38562349]]), array([[-0.82275572]]))\n"
     ]
    },
    {
     "name": "stdout",
     "output_type": "stream",
     "text": [
      "Process 3222: Observer : observed data (array([[0.56209516, 0.47298877]]), array([[-0.55168998]]))"
     ]
    },
    {
     "name": "stdout",
     "output_type": "stream",
     "text": [
      "\n"
     ]
    },
    {
     "name": "stdout",
     "output_type": "stream",
     "text": [
      "Process 2747: Main     : received data (array([[0.56209516, 0.47298877]]), array([[-0.55168998]]))\n"
     ]
    },
    {
     "name": "stdout",
     "output_type": "stream",
     "text": [
      "Process 2747: Main     : iteration 2 starts\n"
     ]
    },
    {
     "name": "stdout",
     "output_type": "stream",
     "text": [
      "Process 3230: Observer : observing data at point [[0.55778073 0.32936476]]"
     ]
    },
    {
     "name": "stdout",
     "output_type": "stream",
     "text": [
      "Process 3226: Observer : observing data at point [[0.56537038 0.32987977]]"
     ]
    },
    {
     "name": "stdout",
     "output_type": "stream",
     "text": [
      "\n"
     ]
    },
    {
     "name": "stdout",
     "output_type": "stream",
     "text": [
      "Process 3230: Objective: pretends like it's doing something for 2.7s"
     ]
    },
    {
     "name": "stdout",
     "output_type": "stream",
     "text": [
      "\n"
     ]
    },
    {
     "name": "stdout",
     "output_type": "stream",
     "text": [
      "\n"
     ]
    },
    {
     "name": "stdout",
     "output_type": "stream",
     "text": [
      "Process 3222: Observer : observing data at point [[0.55029795 0.32895586]]"
     ]
    },
    {
     "name": "stdout",
     "output_type": "stream",
     "text": [
      "Process 3226: Objective: pretends like it's doing something for 2.7s"
     ]
    },
    {
     "name": "stdout",
     "output_type": "stream",
     "text": [
      "\n"
     ]
    },
    {
     "name": "stdout",
     "output_type": "stream",
     "text": [
      "\n"
     ]
    },
    {
     "name": "stdout",
     "output_type": "stream",
     "text": [
      "Process 3222: Objective: pretends like it's doing something for 2.6s"
     ]
    },
    {
     "name": "stdout",
     "output_type": "stream",
     "text": [
      "\n"
     ]
    },
    {
     "name": "stdout",
     "output_type": "stream",
     "text": [
      "Process 3222: Observer : observed data (array([[0.55029795, 0.32895586]]), array([[-0.90109778]]))"
     ]
    },
    {
     "name": "stdout",
     "output_type": "stream",
     "text": [
      "\n"
     ]
    },
    {
     "name": "stdout",
     "output_type": "stream",
     "text": [
      "Process 2747: Main     : received data (array([[0.55029795, 0.32895586]]), array([[-0.90109778]]))\n"
     ]
    },
    {
     "name": "stdout",
     "output_type": "stream",
     "text": [
      "Process 3230: Observer : observed data (array([[0.55778073, 0.32936476]]), array([[-0.88807551]]))"
     ]
    },
    {
     "name": "stdout",
     "output_type": "stream",
     "text": [
      "\n"
     ]
    },
    {
     "name": "stdout",
     "output_type": "stream",
     "text": [
      "Process 2747: Main     : received data (array([[0.55778073, 0.32936476]]), array([[-0.88807551]]))\n"
     ]
    },
    {
     "name": "stdout",
     "output_type": "stream",
     "text": [
      "Process 3226: Observer : observed data (array([[0.56537038, 0.32987977]]), array([[-0.87244644]]))"
     ]
    },
    {
     "name": "stdout",
     "output_type": "stream",
     "text": [
      "\n"
     ]
    },
    {
     "name": "stdout",
     "output_type": "stream",
     "text": [
      "Process 2747: Main     : received data (array([[0.56537038, 0.32987977]]), array([[-0.87244644]]))\n"
     ]
    },
    {
     "name": "stdout",
     "output_type": "stream",
     "text": [
      "Process 2747: Main     : iteration 3 starts\n"
     ]
    },
    {
     "name": "stdout",
     "output_type": "stream",
     "text": [
      "Process 3222: Observer : observing data at point [[0.52980369 0.26266073]]"
     ]
    },
    {
     "name": "stdout",
     "output_type": "stream",
     "text": [
      "Process 3230: Observer : observing data at point [[0.53273108 0.24846513]]"
     ]
    },
    {
     "name": "stdout",
     "output_type": "stream",
     "text": [
      "\n"
     ]
    },
    {
     "name": "stdout",
     "output_type": "stream",
     "text": [
      "Process 3226: Observer : observing data at point [[0.52613939 0.27601428]]"
     ]
    },
    {
     "name": "stdout",
     "output_type": "stream",
     "text": [
      "\n"
     ]
    },
    {
     "name": "stdout",
     "output_type": "stream",
     "text": [
      "Process 3230: Objective: pretends like it's doing something for 2.3s"
     ]
    },
    {
     "name": "stdout",
     "output_type": "stream",
     "text": [
      "Process 3222: Objective: pretends like it's doing something for 2.4s"
     ]
    },
    {
     "name": "stdout",
     "output_type": "stream",
     "text": [
      "\n"
     ]
    },
    {
     "name": "stdout",
     "output_type": "stream",
     "text": [
      "Process 3226: Objective: pretends like it's doing something for 2.4s"
     ]
    },
    {
     "name": "stdout",
     "output_type": "stream",
     "text": [
      "\n"
     ]
    },
    {
     "name": "stdout",
     "output_type": "stream",
     "text": [
      "\n"
     ]
    },
    {
     "name": "stdout",
     "output_type": "stream",
     "text": [
      "\n"
     ]
    },
    {
     "name": "stdout",
     "output_type": "stream",
     "text": [
      "Process 3230: Observer : observed data (array([[0.53273108, 0.24846513]]), array([[-1.01117015]]))"
     ]
    },
    {
     "name": "stdout",
     "output_type": "stream",
     "text": [
      "\n"
     ]
    },
    {
     "name": "stdout",
     "output_type": "stream",
     "text": [
      "Process 2747: Main     : received data (array([[0.53273108, 0.24846513]]), array([[-1.01117015]]))\n"
     ]
    },
    {
     "name": "stdout",
     "output_type": "stream",
     "text": [
      "Process 3222: Observer : observed data (array([[0.52980369, 0.26266073]]), array([[-1.00011531]]))"
     ]
    },
    {
     "name": "stdout",
     "output_type": "stream",
     "text": [
      "\n"
     ]
    },
    {
     "name": "stdout",
     "output_type": "stream",
     "text": [
      "Process 2747: Main     : received data (array([[0.52980369, 0.26266073]]), array([[-1.00011531]]))\n"
     ]
    },
    {
     "name": "stdout",
     "output_type": "stream",
     "text": [
      "Process 3226: Observer : observed data (array([[0.52613939, 0.27601428]]), array([[-0.98846127]]))"
     ]
    },
    {
     "name": "stdout",
     "output_type": "stream",
     "text": [
      "\n"
     ]
    },
    {
     "name": "stdout",
     "output_type": "stream",
     "text": [
      "Process 2747: Main     : received data (array([[0.52613939, 0.27601428]]), array([[-0.98846127]]))\n"
     ]
    },
    {
     "name": "stdout",
     "output_type": "stream",
     "text": [
      "Process 2747: Main     : iteration 4 starts\n"
     ]
    },
    {
     "name": "stdout",
     "output_type": "stream",
     "text": [
      "Process 3222: Observer : observing data at point [[0.5633463  0.05997991]]"
     ]
    },
    {
     "name": "stdout",
     "output_type": "stream",
     "text": [
      "\n"
     ]
    },
    {
     "name": "stdout",
     "output_type": "stream",
     "text": [
      "Process 3226: Observer : observing data at point [[0.55262676 0.09798398]]"
     ]
    },
    {
     "name": "stdout",
     "output_type": "stream",
     "text": [
      "\n"
     ]
    },
    {
     "name": "stdout",
     "output_type": "stream",
     "text": [
      "Process 3226: Objective: pretends like it's doing something for 2.0s"
     ]
    },
    {
     "name": "stdout",
     "output_type": "stream",
     "text": [
      "\n"
     ]
    },
    {
     "name": "stdout",
     "output_type": "stream",
     "text": [
      "Process 3230: Observer : observing data at point [[0.58452196 0.        ]]"
     ]
    },
    {
     "name": "stdout",
     "output_type": "stream",
     "text": [
      "Process 3222: Objective: pretends like it's doing something for 1.9s"
     ]
    },
    {
     "name": "stdout",
     "output_type": "stream",
     "text": [
      "\n"
     ]
    },
    {
     "name": "stdout",
     "output_type": "stream",
     "text": [
      "Process 3230: Objective: pretends like it's doing something for 1.8s"
     ]
    },
    {
     "name": "stdout",
     "output_type": "stream",
     "text": [
      "\n"
     ]
    },
    {
     "name": "stdout",
     "output_type": "stream",
     "text": [
      "\n"
     ]
    },
    {
     "name": "stdout",
     "output_type": "stream",
     "text": [
      "Process 3230: Observer : observed data (array([[0.58452196, 0.        ]]), array([[-0.94734138]]))"
     ]
    },
    {
     "name": "stdout",
     "output_type": "stream",
     "text": [
      "\n"
     ]
    },
    {
     "name": "stdout",
     "output_type": "stream",
     "text": [
      "Process 2747: Main     : received data (array([[0.58452196, 0.        ]]), array([[-0.94734138]]))\n"
     ]
    },
    {
     "name": "stdout",
     "output_type": "stream",
     "text": [
      "Process 3222: Observer : observed data (array([[0.5633463 , 0.05997991]]), array([[-1.01334039]]))"
     ]
    },
    {
     "name": "stdout",
     "output_type": "stream",
     "text": [
      "\n"
     ]
    },
    {
     "name": "stdout",
     "output_type": "stream",
     "text": [
      "Process 2747: Main     : received data (array([[0.5633463 , 0.05997991]]), array([[-1.01334039]]))\n"
     ]
    },
    {
     "name": "stdout",
     "output_type": "stream",
     "text": [
      "Process 3226: Observer : observed data (array([[0.55262676, 0.09798398]]), array([[-1.03613958]]))"
     ]
    },
    {
     "name": "stdout",
     "output_type": "stream",
     "text": [
      "\n"
     ]
    },
    {
     "name": "stdout",
     "output_type": "stream",
     "text": [
      "Process 2747: Main     : received data (array([[0.55262676, 0.09798398]]), array([[-1.03613958]]))\n"
     ]
    },
    {
     "name": "stdout",
     "output_type": "stream",
     "text": [
      "Process 2747: Main     : iteration 5 starts\n"
     ]
    },
    {
     "name": "stdout",
     "output_type": "stream",
     "text": [
      "Process 3226: Observer : observing data at point [[0.54118234 0.15208314]]"
     ]
    },
    {
     "name": "stdout",
     "output_type": "stream",
     "text": [
      "Process 3230: Observer : observing data at point [[0.541311   0.15108004]]"
     ]
    },
    {
     "name": "stdout",
     "output_type": "stream",
     "text": [
      "\n"
     ]
    },
    {
     "name": "stdout",
     "output_type": "stream",
     "text": [
      "Process 3222: Observer : observing data at point [[0.54144404 0.15007729]]"
     ]
    },
    {
     "name": "stdout",
     "output_type": "stream",
     "text": [
      "\n"
     ]
    },
    {
     "name": "stdout",
     "output_type": "stream",
     "text": [
      "Process 3230: Objective: pretends like it's doing something for 2.1s"
     ]
    },
    {
     "name": "stdout",
     "output_type": "stream",
     "text": [
      "\n"
     ]
    },
    {
     "name": "stdout",
     "output_type": "stream",
     "text": [
      "Process 3222: Objective: pretends like it's doing something for 2.1s"
     ]
    },
    {
     "name": "stdout",
     "output_type": "stream",
     "text": [
      "\n"
     ]
    },
    {
     "name": "stdout",
     "output_type": "stream",
     "text": [
      "Process 3226: Objective: pretends like it's doing something for 2.1s"
     ]
    },
    {
     "name": "stdout",
     "output_type": "stream",
     "text": [
      "\n"
     ]
    },
    {
     "name": "stdout",
     "output_type": "stream",
     "text": [
      "\n"
     ]
    },
    {
     "name": "stdout",
     "output_type": "stream",
     "text": [
      "Process 3222: Observer : observed data (array([[0.54144404, 0.15007729]]), array([[-1.04732724]]))"
     ]
    },
    {
     "name": "stdout",
     "output_type": "stream",
     "text": [
      "\n"
     ]
    },
    {
     "name": "stdout",
     "output_type": "stream",
     "text": [
      "Process 2747: Main     : received data (array([[0.54144404, 0.15007729]]), array([[-1.04732724]]))\n"
     ]
    },
    {
     "name": "stdout",
     "output_type": "stream",
     "text": [
      "Process 3230: Observer : observed data (array([[0.541311  , 0.15108004]]), array([[-1.04733648]]))"
     ]
    },
    {
     "name": "stdout",
     "output_type": "stream",
     "text": [
      "Process 3226: Observer : observed data (array([[0.54118234, 0.15208314]]), array([[-1.04733832]]))"
     ]
    },
    {
     "name": "stdout",
     "output_type": "stream",
     "text": [
      "\n"
     ]
    },
    {
     "name": "stdout",
     "output_type": "stream",
     "text": [
      "\n"
     ]
    },
    {
     "name": "stdout",
     "output_type": "stream",
     "text": [
      "Process 2747: Main     : received data (array([[0.541311  , 0.15108004]]), array([[-1.04733648]]))\n"
     ]
    },
    {
     "name": "stdout",
     "output_type": "stream",
     "text": [
      "Process 2747: Main     : received data (array([[0.54118234, 0.15208314]]), array([[-1.04733832]]))\n"
     ]
    },
    {
     "name": "stdout",
     "output_type": "stream",
     "text": [
      "Process 2747: Main     : iteration 6 starts\n"
     ]
    },
    {
     "name": "stdout",
     "output_type": "stream",
     "text": [
      "Process 3222: Observer : observing data at point [[0.16412345 1.        ]]"
     ]
    },
    {
     "name": "stdout",
     "output_type": "stream",
     "text": [
      "Process 3226: Observer : observing data at point [[0. 1.]]"
     ]
    },
    {
     "name": "stdout",
     "output_type": "stream",
     "text": [
      "\n"
     ]
    },
    {
     "name": "stdout",
     "output_type": "stream",
     "text": [
      "Process 3230: Observer : observing data at point [[0.19074596 0.8223502 ]]"
     ]
    },
    {
     "name": "stdout",
     "output_type": "stream",
     "text": [
      "\n"
     ]
    },
    {
     "name": "stdout",
     "output_type": "stream",
     "text": [
      "Process 3222: Objective: pretends like it's doing something for 3.5s"
     ]
    },
    {
     "name": "stdout",
     "output_type": "stream",
     "text": [
      "\n"
     ]
    },
    {
     "name": "stdout",
     "output_type": "stream",
     "text": [
      "Process 3230: Objective: pretends like it's doing something for 3.0s"
     ]
    },
    {
     "name": "stdout",
     "output_type": "stream",
     "text": [
      "\n"
     ]
    },
    {
     "name": "stdout",
     "output_type": "stream",
     "text": [
      "Process 3226: Objective: pretends like it's doing something for 3.0s"
     ]
    },
    {
     "name": "stdout",
     "output_type": "stream",
     "text": [
      "\n"
     ]
    },
    {
     "name": "stdout",
     "output_type": "stream",
     "text": [
      "\n"
     ]
    },
    {
     "name": "stdout",
     "output_type": "stream",
     "text": [
      "Process 3226: Observer : observed data (array([[0., 1.]]), array([[-0.71803081]]))"
     ]
    },
    {
     "name": "stdout",
     "output_type": "stream",
     "text": [
      "\n"
     ]
    },
    {
     "name": "stdout",
     "output_type": "stream",
     "text": [
      "Process 2747: Main     : received data (array([[0., 1.]]), array([[-0.71803081]]))\n"
     ]
    },
    {
     "name": "stdout",
     "output_type": "stream",
     "text": [
      "Process 3230: Observer : observed data (array([[0.19074596, 0.8223502 ]]), array([[-0.85656711]]))"
     ]
    },
    {
     "name": "stdout",
     "output_type": "stream",
     "text": [
      "\n"
     ]
    },
    {
     "name": "stdout",
     "output_type": "stream",
     "text": [
      "Process 2747: Main     : received data (array([[0.19074596, 0.8223502 ]]), array([[-0.85656711]]))\n"
     ]
    },
    {
     "name": "stdout",
     "output_type": "stream",
     "text": [
      "Process 3222: Observer : observed data (array([[0.16412345, 1.        ]]), array([[-0.68670603]]))"
     ]
    },
    {
     "name": "stdout",
     "output_type": "stream",
     "text": [
      "\n"
     ]
    },
    {
     "name": "stdout",
     "output_type": "stream",
     "text": [
      "Process 2747: Main     : received data (array([[0.16412345, 1.        ]]), array([[-0.68670603]]))\n"
     ]
    },
    {
     "name": "stdout",
     "output_type": "stream",
     "text": [
      "Process 2747: Main     : iteration 7 starts\n"
     ]
    },
    {
     "name": "stdout",
     "output_type": "stream",
     "text": [
      "Process 3230: Observer : observing data at point [[0.1003918  0.70420224]]"
     ]
    },
    {
     "name": "stdout",
     "output_type": "stream",
     "text": [
      "\n"
     ]
    },
    {
     "name": "stdout",
     "output_type": "stream",
     "text": [
      "Process 3226: Observer : observing data at point [[0.09186967 0.75464499]]"
     ]
    },
    {
     "name": "stdout",
     "output_type": "stream",
     "text": [
      "Process 3230: Objective: pretends like it's doing something for 2.4s"
     ]
    },
    {
     "name": "stdout",
     "output_type": "stream",
     "text": [
      "Process 3222: Observer : observing data at point [[1. 0.]]"
     ]
    },
    {
     "name": "stdout",
     "output_type": "stream",
     "text": [
      "\n"
     ]
    },
    {
     "name": "stdout",
     "output_type": "stream",
     "text": [
      "\n"
     ]
    },
    {
     "name": "stdout",
     "output_type": "stream",
     "text": [
      "\n"
     ]
    },
    {
     "name": "stdout",
     "output_type": "stream",
     "text": [
      "Process 3222: Objective: pretends like it's doing something for 3.0s"
     ]
    },
    {
     "name": "stdout",
     "output_type": "stream",
     "text": [
      "Process 3226: Objective: pretends like it's doing something for 2.5s"
     ]
    },
    {
     "name": "stdout",
     "output_type": "stream",
     "text": [
      "\n"
     ]
    },
    {
     "name": "stdout",
     "output_type": "stream",
     "text": [
      "\n"
     ]
    },
    {
     "name": "stdout",
     "output_type": "stream",
     "text": [
      "Process 3230: Observer : observed data (array([[0.1003918 , 0.70420224]]), array([[-0.90836887]]))"
     ]
    },
    {
     "name": "stdout",
     "output_type": "stream",
     "text": [
      "\n"
     ]
    },
    {
     "name": "stdout",
     "output_type": "stream",
     "text": [
      "Process 2747: Main     : received data (array([[0.1003918 , 0.70420224]]), array([[-0.90836887]]))\n"
     ]
    },
    {
     "name": "stdout",
     "output_type": "stream",
     "text": [
      "Process 3226: Observer : observed data (array([[0.09186967, 0.75464499]]), array([[-0.93835805]]))"
     ]
    },
    {
     "name": "stdout",
     "output_type": "stream",
     "text": [
      "\n"
     ]
    },
    {
     "name": "stdout",
     "output_type": "stream",
     "text": [
      "Process 2747: Main     : received data (array([[0.09186967, 0.75464499]]), array([[-0.93835805]]))\n"
     ]
    },
    {
     "name": "stdout",
     "output_type": "stream",
     "text": [
      "Process 3222: Observer : observed data (array([[1., 0.]]), array([[-0.84406373]]))"
     ]
    },
    {
     "name": "stdout",
     "output_type": "stream",
     "text": [
      "\n"
     ]
    },
    {
     "name": "stdout",
     "output_type": "stream",
     "text": [
      "Process 2747: Main     : received data (array([[1., 0.]]), array([[-0.84406373]]))\n"
     ]
    },
    {
     "name": "stdout",
     "output_type": "stream",
     "text": [
      "Process 2747: Main     : iteration 8 starts\n"
     ]
    },
    {
     "name": "stdout",
     "output_type": "stream",
     "text": [
      "Process 3230: Observer : observing data at point [[0.85104213 0.        ]]"
     ]
    },
    {
     "name": "stdout",
     "output_type": "stream",
     "text": [
      "\n"
     ]
    },
    {
     "name": "stdout",
     "output_type": "stream",
     "text": [
      "Process 3226: Observer : observing data at point [[0.7937763 0.       ]]"
     ]
    },
    {
     "name": "stdout",
     "output_type": "stream",
     "text": [
      "Process 3222: Observer : observing data at point [[0.90030546 0.        ]]"
     ]
    },
    {
     "name": "stdout",
     "output_type": "stream",
     "text": [
      "\n"
     ]
    },
    {
     "name": "stdout",
     "output_type": "stream",
     "text": [
      "Process 3222: Objective: pretends like it's doing something for 2.7s"
     ]
    },
    {
     "name": "stdout",
     "output_type": "stream",
     "text": [
      "\n"
     ]
    },
    {
     "name": "stdout",
     "output_type": "stream",
     "text": [
      "\n"
     ]
    },
    {
     "name": "stdout",
     "output_type": "stream",
     "text": [
      "Process 3226: Objective: pretends like it's doing something for 2.4s"
     ]
    },
    {
     "name": "stdout",
     "output_type": "stream",
     "text": [
      "\n"
     ]
    },
    {
     "name": "stdout",
     "output_type": "stream",
     "text": [
      "Process 3230: Objective: pretends like it's doing something for 2.6s"
     ]
    },
    {
     "name": "stdout",
     "output_type": "stream",
     "text": [
      "\n"
     ]
    },
    {
     "name": "stdout",
     "output_type": "stream",
     "text": [
      "Process 3226: Observer : observed data (array([[0.7937763, 0.       ]]), array([[-0.68614734]]))"
     ]
    },
    {
     "name": "stdout",
     "output_type": "stream",
     "text": [
      "\n"
     ]
    },
    {
     "name": "stdout",
     "output_type": "stream",
     "text": [
      "Process 2747: Main     : received data (array([[0.7937763, 0.       ]]), array([[-0.68614734]]))\n"
     ]
    },
    {
     "name": "stdout",
     "output_type": "stream",
     "text": [
      "Process 3230: Observer : observed data (array([[0.85104213, 0.        ]]), array([[-0.80682851]]))"
     ]
    },
    {
     "name": "stdout",
     "output_type": "stream",
     "text": [
      "\n"
     ]
    },
    {
     "name": "stdout",
     "output_type": "stream",
     "text": [
      "Process 2747: Main     : received data (array([[0.85104213, 0.        ]]), array([[-0.80682851]]))\n"
     ]
    },
    {
     "name": "stdout",
     "output_type": "stream",
     "text": [
      "Process 3222: Observer : observed data (array([[0.90030546, 0.        ]]), array([[-0.91157128]]))"
     ]
    },
    {
     "name": "stdout",
     "output_type": "stream",
     "text": [
      "\n"
     ]
    },
    {
     "name": "stdout",
     "output_type": "stream",
     "text": [
      "Process 2747: Main     : received data (array([[0.90030546, 0.        ]]), array([[-0.91157128]]))\n"
     ]
    },
    {
     "name": "stdout",
     "output_type": "stream",
     "text": [
      "Process 2747: Main     : iteration 9 starts\n"
     ]
    },
    {
     "name": "stdout",
     "output_type": "stream",
     "text": [
      "Process 3226: Observer : observing data at point [[0.52062343 0.12952834]]"
     ]
    },
    {
     "name": "stdout",
     "output_type": "stream",
     "text": [
      "Process 3230: Observer : observing data at point [[0.51968728 0.12342491]]"
     ]
    },
    {
     "name": "stdout",
     "output_type": "stream",
     "text": [
      "Process 3222: Observer : observing data at point [[0.5213803  0.13549723]]"
     ]
    },
    {
     "name": "stdout",
     "output_type": "stream",
     "text": [
      "\n"
     ]
    },
    {
     "name": "stdout",
     "output_type": "stream",
     "text": [
      "\n"
     ]
    },
    {
     "name": "stdout",
     "output_type": "stream",
     "text": [
      "\n"
     ]
    },
    {
     "name": "stdout",
     "output_type": "stream",
     "text": [
      "Process 3230: Objective: pretends like it's doing something for 1.9s"
     ]
    },
    {
     "name": "stdout",
     "output_type": "stream",
     "text": [
      "\n"
     ]
    },
    {
     "name": "stdout",
     "output_type": "stream",
     "text": [
      "Process 3226: Objective: pretends like it's doing something for 2.0s"
     ]
    },
    {
     "name": "stdout",
     "output_type": "stream",
     "text": [
      "Process 3222: Objective: pretends like it's doing something for 2.0s"
     ]
    },
    {
     "name": "stdout",
     "output_type": "stream",
     "text": [
      "\n"
     ]
    },
    {
     "name": "stdout",
     "output_type": "stream",
     "text": [
      "\n"
     ]
    },
    {
     "name": "stdout",
     "output_type": "stream",
     "text": [
      "Process 3230: Observer : observed data (array([[0.51968728, 0.12342491]]), array([[-1.0267414]]))"
     ]
    },
    {
     "name": "stdout",
     "output_type": "stream",
     "text": [
      "\n"
     ]
    },
    {
     "name": "stdout",
     "output_type": "stream",
     "text": [
      "Process 2747: Main     : received data (array([[0.51968728, 0.12342491]]), array([[-1.0267414]]))\n"
     ]
    },
    {
     "name": "stdout",
     "output_type": "stream",
     "text": [
      "Process 3226: Observer : observed data (array([[0.52062343, 0.12952834]]), array([[-1.03023014]]))"
     ]
    },
    {
     "name": "stdout",
     "output_type": "stream",
     "text": [
      "\n"
     ]
    },
    {
     "name": "stdout",
     "output_type": "stream",
     "text": [
      "Process 2747: Main     : received data (array([[0.52062343, 0.12952834]]), array([[-1.03023014]]))\n"
     ]
    },
    {
     "name": "stdout",
     "output_type": "stream",
     "text": [
      "Process 3222: Observer : observed data (array([[0.5213803 , 0.13549723]]), array([[-1.03302889]]))"
     ]
    },
    {
     "name": "stdout",
     "output_type": "stream",
     "text": [
      "\n"
     ]
    },
    {
     "name": "stdout",
     "output_type": "stream",
     "text": [
      "Process 2747: Main     : received data (array([[0.5213803 , 0.13549723]]), array([[-1.03302889]]))\n"
     ]
    },
    {
     "name": "stdout",
     "output_type": "stream",
     "text": [
      "Got 33 observations in 44.58s\n"
     ]
    }
   ],
   "source": [
    "# setup Ask Tell BO\n",
    "gpflow_model = build_gpr(initial_data, search_space, likelihood_variance=1e-7)\n",
    "model = GaussianProcessRegression(gpflow_model)\n",
    "\n",
    "local_penalization_acq = LocalPenalization(search_space, num_samples=2000)\n",
    "local_penalization_rule = EfficientGlobalOptimization(  # type: ignore\n",
    "    num_query_points=num_workers, builder=local_penalization_acq\n",
    ")\n",
    "\n",
    "sync_bo = AskTellOptimizer(\n",
    "    search_space, initial_data, model, local_penalization_rule\n",
    ")\n",
    "\n",
    "\n",
    "# retrieve process id for nice logging\n",
    "pid = os.getpid()\n",
    "# create point and observation queues\n",
    "m = Manager()\n",
    "pq = m.Queue()\n",
    "oq = m.Queue()\n",
    "# keep track of all workers we have launched\n",
    "observer_processes = []\n",
    "\n",
    "start = timeit.default_timer()\n",
    "try:\n",
    "    observer_processes = create_worker_processes(num_workers, pq, oq)\n",
    "\n",
    "    # BO loop starts here\n",
    "    for i in range(num_iterations):\n",
    "        print(f\"Process {pid}: Main     : iteration {i} starts\", flush=True)\n",
    "\n",
    "        # get a batch of points from Trieste, send them to points queue\n",
    "        # each worker picks up a point and processes it\n",
    "        points = sync_bo.ask()\n",
    "        for point in points.numpy():\n",
    "            pq.put(point.reshape(1, -1))  # reshape is to make point a 2d array\n",
    "\n",
    "        # now we wait for all workers to finish\n",
    "        # we create an empty dataset and wait\n",
    "        # until we collected as many observations in it\n",
    "        # as there were points in the batch\n",
    "        all_new_data = Dataset(\n",
    "            tf.zeros((0, initial_data.query_points.shape[1]), tf.float64),\n",
    "            tf.zeros((0, initial_data.observations.shape[1]), tf.float64),\n",
    "        )\n",
    "        while len(all_new_data) < num_workers:\n",
    "            # this line blocks the process until new data is available in the queue\n",
    "            new_data = oq.get()\n",
    "            print(\n",
    "                f\"Process {pid}: Main     : received data {new_data}\",\n",
    "                flush=True,\n",
    "            )\n",
    "\n",
    "            new_data = Dataset(\n",
    "                query_points=tf.constant(new_data[0], dtype=tf.float64),\n",
    "                observations=tf.constant(new_data[1], dtype=tf.float64),\n",
    "            )\n",
    "\n",
    "            all_new_data = all_new_data + new_data\n",
    "\n",
    "        # tell Trieste of new batch of observations\n",
    "        sync_bo.tell(all_new_data)\n",
    "\n",
    "finally:\n",
    "    terminate_processes(observer_processes)\n",
    "stop = timeit.default_timer()\n",
    "\n",
    "# Collect the observations, compute the running time\n",
    "sync_lp_observations = (\n",
    "    sync_bo.to_result().try_get_final_dataset().observations\n",
    "    - SCALED_BRANIN_MINIMUM\n",
    ")\n",
    "sync_lp_time = stop - start\n",
    "print(f\"Got {len(sync_lp_observations)} observations in {sync_lp_time:.2f}s\")"
   ]
  },
  {
   "cell_type": "markdown",
   "id": "ee41d14c",
   "metadata": {},
   "source": [
    "## Comparison\n",
    "To compare outcomes of sync and async runs, let's plot their respective regrets side by side, and print out the running time. For this toy problem we expect async scenario to run a little bit faster on machines with multiple CPU."
   ]
  },
  {
   "cell_type": "code",
   "execution_count": 10,
   "id": "6302f597",
   "metadata": {
    "execution": {
     "iopub.execute_input": "2022-06-21T13:15:48.807322Z",
     "iopub.status.busy": "2022-06-21T13:15:48.806754Z",
     "iopub.status.idle": "2022-06-21T13:15:50.268163Z",
     "shell.execute_reply": "2022-06-21T13:15:50.267576Z"
    }
   },
   "outputs": [
    {
     "data": {
      "image/png": "[encoded data removed]",
      "text/plain": [
       "<Figure size 432x288 with 2 Axes>"
      ]
     },
     "metadata": {
      "needs_background": "light"
     },
     "output_type": "display_data"
    }
   ],
   "source": [
    "from util.plotting import plot_regret\n",
    "import matplotlib.pyplot as plt\n",
    "\n",
    "fig, ax = plt.subplots(1, 2)\n",
    "\n",
    "sync_lp_min_idx = tf.squeeze(tf.argmin(sync_lp_observations, axis=0))\n",
    "async_lp_min_idx = tf.squeeze(tf.argmin(async_lp_observations, axis=0))\n",
    "\n",
    "plot_regret(\n",
    "    sync_lp_observations.numpy(),\n",
    "    ax[0],\n",
    "    num_init=len(initial_data),\n",
    "    idx_best=sync_lp_min_idx,\n",
    ")\n",
    "ax[0].set_yscale(\"log\")\n",
    "ax[0].set_ylabel(\"Regret\")\n",
    "ax[0].set_ylim(0.0000001, 100)\n",
    "ax[0].set_xlabel(\"# evaluations\")\n",
    "ax[0].set_title(\n",
    "    f\"Sync LP, {len(sync_lp_observations)} points, time {sync_lp_time:.2f}\"\n",
    ")\n",
    "\n",
    "plot_regret(\n",
    "    async_lp_observations.numpy(),\n",
    "    ax[1],\n",
    "    num_init=len(initial_data),\n",
    "    idx_best=async_lp_min_idx,\n",
    ")\n",
    "ax[1].set_yscale(\"log\")\n",
    "ax[1].set_ylabel(\"Regret\")\n",
    "ax[1].set_ylim(0.0000001, 100)\n",
    "ax[1].set_xlabel(\"# evaluations\")\n",
    "ax[1].set_title(\n",
    "    f\"Async LP, {len(async_lp_observations)} points, time {async_lp_time:.2f}s\"\n",
    ")\n",
    "\n",
    "fig.tight_layout()"
   ]
  }
 ],
 "metadata": {
  "jupytext": {
   "cell_metadata_filter": "-all",
   "main_language": "python",
   "notebook_metadata_filter": "-all",
   "text_representation": {
    "extension": ".py",
    "format_name": "percent"
   }
  },
  "language_info": {
   "codemirror_mode": {
    "name": "ipython",
    "version": 3
   },
   "file_extension": ".py",
   "mimetype": "text/x-python",
   "name": "python",
   "nbconvert_exporter": "python",
   "pygments_lexer": "ipython3",
   "version": "3.7.13"
  }
 },
 "nbformat": 4,
 "nbformat_minor": 5
}
